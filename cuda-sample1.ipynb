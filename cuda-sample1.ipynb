{
  "nbformat": 4,
  "nbformat_minor": 0,
  "metadata": {
    "colab": {
      "provenance": [],
      "gpuType": "T4"
    },
    "kernelspec": {
      "name": "python3",
      "display_name": "Python 3"
    },
    "language_info": {
      "name": "python"
    },
    "accelerator": "GPU"
  },
  "cells": [
    {
      "cell_type": "code",
      "source": [
        "#@markdown ####Fetch\n",
        "%cd\n",
        "\n",
        "!git clone --depth 1 --branch naive https://github.com/jzcurious/cuda-sample1.git\n",
        "%cd cuda-sample1\n",
        "\n",
        "project_dir = !pwd\n",
        "project_dir = project_dir[0]\n"
      ],
      "metadata": {
        "cellView": "form",
        "id": "Pc479q5ES2b3",
        "colab": {
          "base_uri": "https://localhost:8080/"
        },
        "outputId": "1010f62b-22a8-4d34-eaa1-5a191fbfda2d"
      },
      "execution_count": 1,
      "outputs": [
        {
          "output_type": "stream",
          "name": "stdout",
          "text": [
            "/root\n",
            "Cloning into 'cuda-sample1'...\n",
            "remote: Enumerating objects: 37, done.\u001b[K\n",
            "remote: Counting objects: 100% (37/37), done.\u001b[K\n",
            "remote: Compressing objects: 100% (34/34), done.\u001b[K\n",
            "remote: Total 37 (delta 1), reused 24 (delta 0), pack-reused 0 (from 0)\u001b[K\n",
            "Receiving objects: 100% (37/37), 16.12 KiB | 16.12 MiB/s, done.\n",
            "Resolving deltas: 100% (1/1), done.\n",
            "Note: switching to 'dd61af18bdc310411eadc99f9aeecd7a709cb330'.\n",
            "\n",
            "You are in 'detached HEAD' state. You can look around, make experimental\n",
            "changes and commit them, and you can discard any commits you make in this\n",
            "state without impacting any branches by switching back to a branch.\n",
            "\n",
            "If you want to create a new branch to retain commits you create, you may\n",
            "do so (now or later) by using -c with the switch command. Example:\n",
            "\n",
            "  git switch -c <new-branch-name>\n",
            "\n",
            "Or undo this operation with:\n",
            "\n",
            "  git switch -\n",
            "\n",
            "Turn off this advice by setting config variable advice.detachedHead to false\n",
            "\n",
            "/root/cuda-sample1\n"
          ]
        }
      ]
    },
    {
      "cell_type": "markdown",
      "source": [
        "####Debug build (host)"
      ],
      "metadata": {
        "id": "JASuzeT_-qVN"
      }
    },
    {
      "cell_type": "code",
      "execution_count": 2,
      "metadata": {
        "id": "6aa21Tp-RRjB",
        "colab": {
          "base_uri": "https://localhost:8080/"
        },
        "outputId": "a6da1598-e404-4d5b-d318-9646bf98d37e"
      },
      "outputs": [
        {
          "output_type": "stream",
          "name": "stdout",
          "text": [
            "/root/cuda-sample1\n",
            "/root/cuda-sample1/build\n",
            "-- The CXX compiler identification is GNU 11.4.0\n",
            "-- The CUDA compiler identification is NVIDIA 12.2.140\n",
            "-- Detecting CXX compiler ABI info\n",
            "-- Detecting CXX compiler ABI info - done\n",
            "-- Check for working CXX compiler: /usr/bin/c++ - skipped\n",
            "-- Detecting CXX compile features\n",
            "-- Detecting CXX compile features - done\n",
            "-- Detecting CUDA compiler ABI info\n",
            "-- Detecting CUDA compiler ABI info - done\n",
            "-- Check for working CUDA compiler: /usr/local/cuda/bin/nvcc - skipped\n",
            "-- Detecting CUDA compile features\n",
            "-- Detecting CUDA compile features - done\n",
            "-- Host debugging mode is enabled\n",
            "-- Testing is enabled\n",
            "Cloning into 'googletest-src'...\n",
            "HEAD is now at b514bdc8 Update version strings to 1.15.2 (#4583)\n",
            "-- The C compiler identification is GNU 11.4.0\n",
            "-- Detecting C compiler ABI info\n",
            "-- Detecting C compiler ABI info - done\n",
            "-- Check for working C compiler: /usr/bin/cc - skipped\n",
            "-- Detecting C compile features\n",
            "-- Detecting C compile features - done\n",
            "-- Performing Test CMAKE_HAVE_LIBC_PTHREAD\n",
            "-- Performing Test CMAKE_HAVE_LIBC_PTHREAD - Success\n",
            "-- Found Threads: TRUE\n",
            "-- Found CUDAToolkit: /usr/local/cuda/targets/x86_64-linux/include (found version \"12.2.140\")\n",
            "-- Configuring done (11.1s)\n",
            "-- Generating done (0.0s)\n",
            "-- Build files have been written to: /root/cuda-sample1/build\n",
            "[  7%] \u001b[32mBuilding CUDA object cuda-sample1-lib/CMakeFiles/cuda-sample1-lib.dir/src/dotprod.cu.o\u001b[0m\n",
            "[ 14%] \u001b[32mBuilding CUDA object cuda-sample1-lib/CMakeFiles/cuda-sample1-lib.dir/src/dynblock.cu.o\u001b[0m\n",
            "[ 21%] \u001b[32mBuilding CXX object _deps/googletest-build/googletest/CMakeFiles/gtest.dir/src/gtest-all.cc.o\u001b[0m\n",
            "[ 28%] \u001b[32m\u001b[1mLinking CUDA static library libcuda-sample1-lib.a\u001b[0m\n",
            "[ 28%] Built target cuda-sample1-lib\n",
            "[ 35%] \u001b[32m\u001b[1mLinking CXX static library ../../../lib/libgtest.a\u001b[0m\n",
            "[ 35%] Built target gtest\n",
            "[ 50%] \u001b[32mBuilding CXX object _deps/googletest-build/googlemock/CMakeFiles/gmock.dir/src/gmock-all.cc.o\u001b[0m\n",
            "[ 50%] \u001b[32mBuilding CXX object _deps/googletest-build/googletest/CMakeFiles/gtest_main.dir/src/gtest_main.cc.o\u001b[0m\n",
            "[ 57%] \u001b[32m\u001b[1mLinking CXX static library ../../../lib/libgtest_main.a\u001b[0m\n",
            "[ 57%] Built target gtest_main\n",
            "[ 64%] \u001b[32mBuilding CUDA object tests/CMakeFiles/cuda-sample1-test.dir/src/tests.cu.o\u001b[0m\n",
            "[ 71%] \u001b[32m\u001b[1mLinking CXX static library ../../../lib/libgmock.a\u001b[0m\n",
            "[ 71%] Built target gmock\n",
            "[ 78%] \u001b[32mBuilding CXX object _deps/googletest-build/googlemock/CMakeFiles/gmock_main.dir/src/gmock_main.cc.o\u001b[0m\n",
            "[ 85%] \u001b[32m\u001b[1mLinking CXX static library ../../../lib/libgmock_main.a\u001b[0m\n",
            "[ 85%] Built target gmock_main\n",
            "[ 92%] \u001b[32m\u001b[1mLinking CUDA device code CMakeFiles/cuda-sample1-test.dir/cmake_device_link.o\u001b[0m\n",
            "[100%] \u001b[32m\u001b[1mLinking CXX executable cuda-sample1-test\u001b[0m\n",
            "[100%] Built target cuda-sample1-test\n",
            "/root/cuda-sample1/build/tests\n"
          ]
        }
      ],
      "source": [
        "%cd $project_dir\n",
        "!mkdir -p build\n",
        "%cd build\n",
        "!cmake --fresh -DTESTING=1 -DCMAKE_BUILD_TYPE=DebugHost ..\n",
        "!cmake --build . -j4\n",
        "%cd tests"
      ]
    },
    {
      "cell_type": "code",
      "source": [
        "!ASAN_OPTIONS=\"protect_shadow_gap=0\" ./cuda-sample1-test --gtest_brief=1"
      ],
      "metadata": {
        "id": "O0pXaE-5fIh8",
        "colab": {
          "base_uri": "https://localhost:8080/"
        },
        "outputId": "c7b758ea-e674-4696-a455-a63847929645"
      },
      "execution_count": 3,
      "outputs": [
        {
          "output_type": "stream",
          "name": "stdout",
          "text": [
            "Running main() from /root/cuda-sample1/build/_deps/googletest-src/googletest/src/gtest_main.cc\n",
            "\u001b[0;32m[==========] \u001b[m36 tests from 3 test suites ran. (383 ms total)\n",
            "\u001b[0;32m[  PASSED  ] \u001b[m36 tests.\n"
          ]
        }
      ]
    },
    {
      "cell_type": "markdown",
      "source": [
        "####Debug build (device)"
      ],
      "metadata": {
        "id": "HPN5qCZn_Bz6"
      }
    },
    {
      "cell_type": "code",
      "source": [
        "%cd $project_dir\n",
        "!mkdir -p build\n",
        "%cd build\n",
        "!cmake --fresh -DTESTING=1 -DCMAKE_BUILD_TYPE=DebugDevice ..\n",
        "!cmake --build . -j4\n",
        "%cd tests"
      ],
      "metadata": {
        "id": "cO8q4QEiRZ11",
        "colab": {
          "base_uri": "https://localhost:8080/"
        },
        "outputId": "06230bd7-feef-483c-9d84-980b0353cb00"
      },
      "execution_count": 4,
      "outputs": [
        {
          "output_type": "stream",
          "name": "stdout",
          "text": [
            "/root/cuda-sample1\n",
            "/root/cuda-sample1/build\n",
            "-- The CXX compiler identification is GNU 11.4.0\n",
            "-- The CUDA compiler identification is NVIDIA 12.2.140\n",
            "-- Detecting CXX compiler ABI info\n",
            "-- Detecting CXX compiler ABI info - done\n",
            "-- Check for working CXX compiler: /usr/bin/c++ - skipped\n",
            "-- Detecting CXX compile features\n",
            "-- Detecting CXX compile features - done\n",
            "-- Detecting CUDA compiler ABI info\n",
            "-- Detecting CUDA compiler ABI info - done\n",
            "-- Check for working CUDA compiler: /usr/local/cuda/bin/nvcc - skipped\n",
            "-- Detecting CUDA compile features\n",
            "-- Detecting CUDA compile features - done\n",
            "-- Device debugging mode is enabled\n",
            "-- Testing is enabled\n",
            "Cloning into 'googletest-src'...\n",
            "HEAD is now at b514bdc8 Update version strings to 1.15.2 (#4583)\n",
            "-- The C compiler identification is GNU 11.4.0\n",
            "-- Detecting C compiler ABI info\n",
            "-- Detecting C compiler ABI info - done\n",
            "-- Check for working C compiler: /usr/bin/cc - skipped\n",
            "-- Detecting C compile features\n",
            "-- Detecting C compile features - done\n",
            "-- Performing Test CMAKE_HAVE_LIBC_PTHREAD\n",
            "-- Performing Test CMAKE_HAVE_LIBC_PTHREAD - Success\n",
            "-- Found Threads: TRUE\n",
            "-- Found CUDAToolkit: /usr/local/cuda/targets/x86_64-linux/include (found version \"12.2.140\")\n",
            "-- Configuring done (6.7s)\n",
            "-- Generating done (0.0s)\n",
            "-- Build files have been written to: /root/cuda-sample1/build\n",
            "[  7%] \u001b[32mBuilding CUDA object cuda-sample1-lib/CMakeFiles/cuda-sample1-lib.dir/src/dynblock.cu.o\u001b[0m\n",
            "[ 14%] \u001b[32mBuilding CUDA object cuda-sample1-lib/CMakeFiles/cuda-sample1-lib.dir/src/dotprod.cu.o\u001b[0m\n",
            "[ 21%] \u001b[32mBuilding CXX object _deps/googletest-build/googletest/CMakeFiles/gtest.dir/src/gtest-all.cc.o\u001b[0m\n",
            "[ 28%] \u001b[32m\u001b[1mLinking CUDA static library libcuda-sample1-lib.a\u001b[0m\n",
            "[ 28%] Built target cuda-sample1-lib\n",
            "[ 35%] \u001b[32m\u001b[1mLinking CXX static library ../../../lib/libgtest.a\u001b[0m\n",
            "[ 35%] Built target gtest\n",
            "[ 42%] \u001b[32mBuilding CXX object _deps/googletest-build/googletest/CMakeFiles/gtest_main.dir/src/gtest_main.cc.o\u001b[0m\n",
            "[ 50%] \u001b[32mBuilding CXX object _deps/googletest-build/googlemock/CMakeFiles/gmock.dir/src/gmock-all.cc.o\u001b[0m\n",
            "[ 57%] \u001b[32m\u001b[1mLinking CXX static library ../../../lib/libgtest_main.a\u001b[0m\n",
            "[ 57%] Built target gtest_main\n",
            "[ 64%] \u001b[32mBuilding CUDA object tests/CMakeFiles/cuda-sample1-test.dir/src/tests.cu.o\u001b[0m\n",
            "[ 71%] \u001b[32m\u001b[1mLinking CXX static library ../../../lib/libgmock.a\u001b[0m\n",
            "[ 71%] Built target gmock\n",
            "[ 78%] \u001b[32mBuilding CXX object _deps/googletest-build/googlemock/CMakeFiles/gmock_main.dir/src/gmock_main.cc.o\u001b[0m\n",
            "[ 85%] \u001b[32m\u001b[1mLinking CXX static library ../../../lib/libgmock_main.a\u001b[0m\n",
            "[ 85%] Built target gmock_main\n",
            "[ 92%] \u001b[32m\u001b[1mLinking CUDA device code CMakeFiles/cuda-sample1-test.dir/cmake_device_link.o\u001b[0m\n",
            "[100%] \u001b[32m\u001b[1mLinking CXX executable cuda-sample1-test\u001b[0m\n",
            "[100%] Built target cuda-sample1-test\n",
            "/root/cuda-sample1/build/tests\n"
          ]
        }
      ]
    },
    {
      "cell_type": "code",
      "source": [
        "!compute-sanitizer --target-processes all --tool memcheck --leak-check=full ./cuda-sample1-test --gtest_brief=1"
      ],
      "metadata": {
        "id": "GLZfRCcpRYda",
        "colab": {
          "base_uri": "https://localhost:8080/"
        },
        "outputId": "4faea39a-f5c6-4056-e585-b2c9e1788691"
      },
      "execution_count": 5,
      "outputs": [
        {
          "output_type": "stream",
          "name": "stdout",
          "text": [
            "========= COMPUTE-SANITIZER\n",
            "Running main() from /root/cuda-sample1/build/_deps/googletest-src/googletest/src/gtest_main.cc\n",
            "\u001b[0;32m[==========] \u001b[m36 tests from 3 test suites ran. (262 ms total)\n",
            "\u001b[0;32m[  PASSED  ] \u001b[m36 tests.\n",
            "========= LEAK SUMMARY: 0 bytes leaked in 0 allocations\n",
            "========= ERROR SUMMARY: 0 errors\n"
          ]
        }
      ]
    },
    {
      "cell_type": "markdown",
      "source": [
        "####Release build"
      ],
      "metadata": {
        "id": "4zeQUqumAc41"
      }
    },
    {
      "cell_type": "code",
      "source": [
        "%cd $project_dir\n",
        "!mkdir -p build\n",
        "%cd build\n",
        "!cmake --fresh -DTESTING=1 -DBENCHMARKING=1 -DCMAKE_BUILD_TYPE=Release ..\n",
        "!cmake --build . -j4\n",
        "%cd tests"
      ],
      "metadata": {
        "id": "zBgze55vAjD-",
        "colab": {
          "base_uri": "https://localhost:8080/"
        },
        "outputId": "b7d5749f-e098-4ac7-a569-77f7e67430af"
      },
      "execution_count": 6,
      "outputs": [
        {
          "output_type": "stream",
          "name": "stdout",
          "text": [
            "/root/cuda-sample1\n",
            "/root/cuda-sample1/build\n",
            "-- The CXX compiler identification is GNU 11.4.0\n",
            "-- The CUDA compiler identification is NVIDIA 12.2.140\n",
            "-- Detecting CXX compiler ABI info\n",
            "-- Detecting CXX compiler ABI info - done\n",
            "-- Check for working CXX compiler: /usr/bin/c++ - skipped\n",
            "-- Detecting CXX compile features\n",
            "-- Detecting CXX compile features - done\n",
            "-- Detecting CUDA compiler ABI info\n",
            "-- Detecting CUDA compiler ABI info - done\n",
            "-- Check for working CUDA compiler: /usr/local/cuda/bin/nvcc - skipped\n",
            "-- Detecting CUDA compile features\n",
            "-- Detecting CUDA compile features - done\n",
            "-- Release mode is enabled\n",
            "-- Testing is enabled\n",
            "Cloning into 'googletest-src'...\n",
            "HEAD is now at b514bdc8 Update version strings to 1.15.2 (#4583)\n",
            "-- The C compiler identification is GNU 11.4.0\n",
            "-- Detecting C compiler ABI info\n",
            "-- Detecting C compiler ABI info - done\n",
            "-- Check for working C compiler: /usr/bin/cc - skipped\n",
            "-- Detecting C compile features\n",
            "-- Detecting C compile features - done\n",
            "-- Performing Test CMAKE_HAVE_LIBC_PTHREAD\n",
            "-- Performing Test CMAKE_HAVE_LIBC_PTHREAD - Success\n",
            "-- Found Threads: TRUE\n",
            "-- Found CUDAToolkit: /usr/local/cuda/targets/x86_64-linux/include (found version \"12.2.140\")\n",
            "-- Benchmarking is enabled\n",
            "Cloning into 'indicators-src'...\n",
            "HEAD is now at 26d39ad Bumped to version v2.3\n",
            "Cloning into 'argparse-src'...\n",
            "HEAD is now at 68fd027 Bumped to v3.1\n",
            "-- Configuring done (13.5s)\n",
            "-- Generating done (0.0s)\n",
            "-- Build files have been written to: /root/cuda-sample1/build\n",
            "[  5%] \u001b[32mBuilding CUDA object cuda-sample1-lib/CMakeFiles/cuda-sample1-lib.dir/src/dotprod.cu.o\u001b[0m\n",
            "[ 11%] \u001b[32mBuilding CUDA object cuda-sample1-lib/CMakeFiles/cuda-sample1-lib.dir/src/dynblock.cu.o\u001b[0m\n",
            "[ 16%] \u001b[32mBuilding CXX object _deps/googletest-build/googletest/CMakeFiles/gtest.dir/src/gtest-all.cc.o\u001b[0m\n",
            "[ 22%] \u001b[32m\u001b[1mLinking CUDA static library libcuda-sample1-lib.a\u001b[0m\n",
            "[ 22%] Built target cuda-sample1-lib\n",
            "[ 33%] \u001b[32mBuilding CUDA object benchmarks/CMakeFiles/dotbench.dir/src/dotbench.cu.o\u001b[0m\n",
            "[ 33%] \u001b[32mBuilding CUDA object benchmarks/CMakeFiles/dotbench.dir/src/timers.cu.o\u001b[0m\n",
            "[ 38%] \u001b[32m\u001b[1mLinking CXX static library ../../../lib/libgtest.a\u001b[0m\n",
            "[ 38%] Built target gtest\n",
            "[ 44%] \u001b[32mBuilding CXX object _deps/googletest-build/googlemock/CMakeFiles/gmock.dir/src/gmock-all.cc.o\u001b[0m\n",
            "[ 50%] \u001b[32mBuilding CXX object _deps/googletest-build/googletest/CMakeFiles/gtest_main.dir/src/gtest_main.cc.o\u001b[0m\n",
            "[ 55%] \u001b[32m\u001b[1mLinking CUDA device code CMakeFiles/dotbench.dir/cmake_device_link.o\u001b[0m\n",
            "[ 61%] \u001b[32m\u001b[1mLinking CUDA executable dotbench\u001b[0m\n",
            "[ 61%] Built target dotbench\n",
            "[ 66%] \u001b[32m\u001b[1mLinking CXX static library ../../../lib/libgtest_main.a\u001b[0m\n",
            "[ 66%] Built target gtest_main\n",
            "[ 72%] \u001b[32mBuilding CUDA object tests/CMakeFiles/cuda-sample1-test.dir/src/tests.cu.o\u001b[0m\n",
            "[ 77%] \u001b[32m\u001b[1mLinking CXX static library ../../../lib/libgmock.a\u001b[0m\n",
            "[ 77%] Built target gmock\n",
            "[ 83%] \u001b[32mBuilding CXX object _deps/googletest-build/googlemock/CMakeFiles/gmock_main.dir/src/gmock_main.cc.o\u001b[0m\n",
            "[ 88%] \u001b[32m\u001b[1mLinking CXX static library ../../../lib/libgmock_main.a\u001b[0m\n",
            "[ 88%] Built target gmock_main\n",
            "[ 94%] \u001b[32m\u001b[1mLinking CUDA device code CMakeFiles/cuda-sample1-test.dir/cmake_device_link.o\u001b[0m\n",
            "[100%] \u001b[32m\u001b[1mLinking CXX executable cuda-sample1-test\u001b[0m\n",
            "[100%] Built target cuda-sample1-test\n",
            "/root/cuda-sample1/build/tests\n"
          ]
        }
      ]
    },
    {
      "cell_type": "code",
      "source": [
        "!ctest"
      ],
      "metadata": {
        "id": "K0VtDsbFUEyz",
        "colab": {
          "base_uri": "https://localhost:8080/"
        },
        "outputId": "ed81c11b-404b-4998-b977-2672a02d197e"
      },
      "execution_count": 7,
      "outputs": [
        {
          "output_type": "stream",
          "name": "stdout",
          "text": [
            "Test project /root/cuda-sample1/build/tests\n",
            "      Start  1: AllocTest.floatScal\n",
            " 1/36 Test  #1: AllocTest.floatScal ..............   Passed    0.13 sec\n",
            "      Start  2: AllocTest.floatVecLen101\n",
            " 2/36 Test  #2: AllocTest.floatVecLen101 .........   Passed    0.11 sec\n",
            "      Start  3: AllocTest.intScal\n",
            " 3/36 Test  #3: AllocTest.intScal ................   Passed    0.12 sec\n",
            "      Start  4: AllocTest.intVecLen101\n",
            " 4/36 Test  #4: AllocTest.intVecLen101 ...........   Passed    0.11 sec\n",
            "      Start  5: AllocTest.unsignedScal\n",
            " 5/36 Test  #5: AllocTest.unsignedScal ...........   Passed    0.11 sec\n",
            "      Start  6: AllocTest.unsignedVecLen101\n",
            " 6/36 Test  #6: AllocTest.unsignedVecLen101 ......   Passed    0.11 sec\n",
            "      Start  7: TransTest.floatScal\n",
            " 7/36 Test  #7: TransTest.floatScal ..............   Passed    0.11 sec\n",
            "      Start  8: TransTest.floatVecLen101\n",
            " 8/36 Test  #8: TransTest.floatVecLen101 .........   Passed    0.12 sec\n",
            "      Start  9: TransTest.floatVecLen1001\n",
            " 9/36 Test  #9: TransTest.floatVecLen1001 ........   Passed    0.13 sec\n",
            "      Start 10: TransTest.floatVecLen10001\n",
            "10/36 Test #10: TransTest.floatVecLen10001 .......   Passed    0.12 sec\n",
            "      Start 11: TransTest.floatVecLen100001\n",
            "11/36 Test #11: TransTest.floatVecLen100001 ......   Passed    0.12 sec\n",
            "      Start 12: TransTest.intScal\n",
            "12/36 Test #12: TransTest.intScal ................   Passed    0.12 sec\n",
            "      Start 13: TransTest.intVecLen101\n",
            "13/36 Test #13: TransTest.intVecLen101 ...........   Passed    0.12 sec\n",
            "      Start 14: TransTest.intVecLen1001\n",
            "14/36 Test #14: TransTest.intVecLen1001 ..........   Passed    0.12 sec\n",
            "      Start 15: TransTest.intVecLen10001\n",
            "15/36 Test #15: TransTest.intVecLen10001 .........   Passed    0.12 sec\n",
            "      Start 16: TransTest.intVecLen100001\n",
            "16/36 Test #16: TransTest.intVecLen100001 ........   Passed    0.12 sec\n",
            "      Start 17: TransTest.unsignedScal\n",
            "17/36 Test #17: TransTest.unsignedScal ...........   Passed    0.11 sec\n",
            "      Start 18: TransTest.unsignedVecLen101\n",
            "18/36 Test #18: TransTest.unsignedVecLen101 ......   Passed    0.12 sec\n",
            "      Start 19: TransTest.unsignedVecLen1001\n",
            "19/36 Test #19: TransTest.unsignedVecLen1001 .....   Passed    0.12 sec\n",
            "      Start 20: TransTest.unsignedVecLen10001\n",
            "20/36 Test #20: TransTest.unsignedVecLen10001 ....   Passed    0.13 sec\n",
            "      Start 21: TransTest.unsignedVecLen100001\n",
            "21/36 Test #21: TransTest.unsignedVecLen100001 ...   Passed    0.12 sec\n",
            "      Start 22: DotTest.floatLen1\n",
            "22/36 Test #22: DotTest.floatLen1 ................   Passed    0.12 sec\n",
            "      Start 23: DotTest.floatLen101\n",
            "23/36 Test #23: DotTest.floatLen101 ..............   Passed    0.22 sec\n",
            "      Start 24: DotTest.floatLen1001\n",
            "24/36 Test #24: DotTest.floatLen1001 .............   Passed    0.12 sec\n",
            "      Start 25: DotTest.floatLen10001\n",
            "25/36 Test #25: DotTest.floatLen10001 ............   Passed    0.12 sec\n",
            "      Start 26: DotTest.floatLen100001\n",
            "26/36 Test #26: DotTest.floatLen100001 ...........   Passed    0.13 sec\n",
            "      Start 27: DotTest.intLen1\n",
            "27/36 Test #27: DotTest.intLen1 ..................   Passed    0.12 sec\n",
            "      Start 28: DotTest.intLen101\n",
            "28/36 Test #28: DotTest.intLen101 ................   Passed    0.13 sec\n",
            "      Start 29: DotTest.intLen1001\n",
            "29/36 Test #29: DotTest.intLen1001 ...............   Passed    0.12 sec\n",
            "      Start 30: DotTest.intLen10001\n",
            "30/36 Test #30: DotTest.intLen10001 ..............   Passed    0.12 sec\n",
            "      Start 31: DotTest.intLen100001\n",
            "31/36 Test #31: DotTest.intLen100001 .............   Passed    0.12 sec\n",
            "      Start 32: DotTest.unsignedLen1\n",
            "32/36 Test #32: DotTest.unsignedLen1 .............   Passed    0.12 sec\n",
            "      Start 33: DotTest.unsignedLen101\n",
            "33/36 Test #33: DotTest.unsignedLen101 ...........   Passed    0.12 sec\n",
            "      Start 34: DotTest.unsignedLen1001\n",
            "34/36 Test #34: DotTest.unsignedLen1001 ..........   Passed    0.12 sec\n",
            "      Start 35: DotTest.unsignedLen10001\n",
            "35/36 Test #35: DotTest.unsignedLen10001 .........   Passed    0.12 sec\n",
            "      Start 36: DotTest.unsignedLen100001\n",
            "36/36 Test #36: DotTest.unsignedLen100001 ........   Passed    0.14 sec\n",
            "\n",
            "\u001b[0;32m100% tests passed\u001b[0;0m, 0 tests failed\u001b[0;0m out of 36\n",
            "\n",
            "Total Test time (real) =   4.47 sec\n"
          ]
        }
      ]
    },
    {
      "cell_type": "markdown",
      "source": [
        "####Benchmarking"
      ],
      "metadata": {
        "id": "hwx-00LWA9Db"
      }
    },
    {
      "cell_type": "markdown",
      "source": [
        "#####Linear job growth"
      ],
      "metadata": {
        "id": "w9BbqVP8CIFh"
      }
    },
    {
      "cell_type": "code",
      "source": [
        "#@markdown $G(x) = 100x + b$\n",
        "%cd $project_dir/build/benchmarks\n",
        "\n",
        "b = 1000 # @param {type:\"number\"}\n",
        "x = 10000 # @param {type:\"number\"}\n",
        "\n",
        "!./dotbench -b $b -n $x -o dot_host.csv\n",
        "!./dotbench -b $b -n $x -o dot_device.csv -d\n",
        "\n",
        "if x >= 200:\n",
        "    %run vis.py -i dot_host.csv dot_device.csv -l Host Device -c indianred limegreen -t \"Real Complexity of Dot Product (linear job)\"\n",
        "else:\n",
        "    %run vis.py -i dot_host.csv dot_device.csv -l Host Device -c indianred limegreen -t \"Real Complexity of Dot Product (linear job)\" -m"
      ],
      "metadata": {
        "cellView": "form",
        "id": "9U5gOqJNHYNq",
        "colab": {
          "base_uri": "https://localhost:8080/"
        },
        "outputId": "130b141e-c8c4-4df7-db5c-85340457403e"
      },
      "execution_count": null,
      "outputs": [
        {
          "output_type": "stream",
          "name": "stdout",
          "text": [
            "/root/cuda-sample1/build/benchmarks\n",
            "5928/10000[■■■■■■■■■■■■■■■■■■■■■■■■■■■■■■-------------------- ] CPU"
          ]
        }
      ]
    },
    {
      "cell_type": "markdown",
      "source": [
        "#####Exponential job growth"
      ],
      "metadata": {
        "id": "0En6RxWXCX5B"
      }
    },
    {
      "cell_type": "code",
      "source": [
        "#@markdown $G(x) = 10^x + b$\n",
        "%cd $project_dir/build/benchmarks\n",
        "\n",
        "b = 1000 # @param {type:\"number\"}\n",
        "x = 10 # @param {type:\"number\"}\n",
        "\n",
        "!./dotbench -e -b $b -n $x -o dot_host.csv\n",
        "!./dotbench -e -b $b -n $x -o dot_device.csv -d\n",
        "\n",
        "%run vis.py -i dot_host.csv dot_device.csv -l Host Device -c indianred limegreen -t \"Real Complexity of Dot Product (exponential job)\" -m"
      ],
      "metadata": {
        "cellView": "form",
        "id": "X9q9FKBWIaRc"
      },
      "execution_count": null,
      "outputs": []
    },
    {
      "cell_type": "code",
      "source": [],
      "metadata": {
        "id": "5dVSbwKDZX6z"
      },
      "execution_count": null,
      "outputs": []
    }
  ]
}