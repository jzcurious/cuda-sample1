{
  "nbformat": 4,
  "nbformat_minor": 0,
  "metadata": {
    "colab": {
      "provenance": [],
      "gpuType": "T4"
    },
    "kernelspec": {
      "name": "python3",
      "display_name": "Python 3"
    },
    "language_info": {
      "name": "python"
    },
    "accelerator": "GPU"
  },
  "cells": [
    {
      "cell_type": "code",
      "source": [
        "#@markdown ####Fetch\n",
        "%cd\n",
        "\n",
        "!git clone -b dev https://github.com/jzcurious/cuda-sample1.git\n",
        "%cd cuda-sample1\n",
        "\n",
        "project_dir = !pwd\n",
        "project_dir = project_dir[0]\n"
      ],
      "metadata": {
        "cellView": "form",
        "id": "Pc479q5ES2b3"
      },
      "execution_count": null,
      "outputs": []
    },
    {
      "cell_type": "markdown",
      "source": [
        "####Debug build (host)"
      ],
      "metadata": {
        "id": "JASuzeT_-qVN"
      }
    },
    {
      "cell_type": "code",
      "execution_count": null,
      "metadata": {
        "id": "6aa21Tp-RRjB"
      },
      "outputs": [],
      "source": [
        "%cd $project_dir\n",
        "!mkdir -p build\n",
        "%cd build\n",
        "!cmake --fresh -DTESTING=1 -DCMAKE_BUILD_TYPE=DebugHost ..\n",
        "!cmake --build . -j4\n",
        "%cd tests"
      ]
    },
    {
      "cell_type": "code",
      "source": [
        "!ASAN_OPTIONS=\"protect_shadow_gap=0\" ./cuda-sample1-test --gtest_brief=1"
      ],
      "metadata": {
        "id": "O0pXaE-5fIh8"
      },
      "execution_count": null,
      "outputs": []
    },
    {
      "cell_type": "markdown",
      "source": [
        "####Debug build (device)"
      ],
      "metadata": {
        "id": "HPN5qCZn_Bz6"
      }
    },
    {
      "cell_type": "code",
      "source": [
        "%cd $project_dir\n",
        "!mkdir -p build\n",
        "%cd build\n",
        "!cmake --fresh -DTESTING=1 -DCMAKE_BUILD_TYPE=DebugDevice ..\n",
        "!cmake --build . -j4\n",
        "%cd tests"
      ],
      "metadata": {
        "id": "cO8q4QEiRZ11"
      },
      "execution_count": null,
      "outputs": []
    },
    {
      "cell_type": "code",
      "source": [
        "!compute-sanitizer --target-processes all --tool memcheck --leak-check=full ./cuda-sample1-test --gtest_brief=1"
      ],
      "metadata": {
        "id": "GLZfRCcpRYda"
      },
      "execution_count": null,
      "outputs": []
    },
    {
      "cell_type": "markdown",
      "source": [
        "####Release build"
      ],
      "metadata": {
        "id": "4zeQUqumAc41"
      }
    },
    {
      "cell_type": "code",
      "source": [
        "%cd $project_dir\n",
        "!mkdir -p build\n",
        "%cd build\n",
        "!cmake --fresh -DTESTING=1 -DBENCHMARKING=1 -DCMAKE_BUILD_TYPE=Release ..\n",
        "!cmake --build . -j4\n",
        "%cd tests"
      ],
      "metadata": {
        "id": "zBgze55vAjD-"
      },
      "execution_count": null,
      "outputs": []
    },
    {
      "cell_type": "code",
      "source": [
        "!ctest"
      ],
      "metadata": {
        "id": "K0VtDsbFUEyz"
      },
      "execution_count": null,
      "outputs": []
    },
    {
      "cell_type": "markdown",
      "source": [
        "####Benchmarking"
      ],
      "metadata": {
        "id": "hwx-00LWA9Db"
      }
    },
    {
      "cell_type": "markdown",
      "source": [
        "#####Linear job growth"
      ],
      "metadata": {
        "id": "w9BbqVP8CIFh"
      }
    },
    {
      "cell_type": "code",
      "source": [
        "#@markdown $G(x) = 100x + b$\n",
        "%cd $project_dir/build/benchmarks\n",
        "\n",
        "b = 1000 # @param {type:\"number\"}\n",
        "x = 10000 # @param {type:\"number\"}\n",
        "\n",
        "!./dotbench -b $b -n $x -o dot_host.csv\n",
        "!./dotbench -b $b -n $x -o dot_device.csv -d\n",
        "\n",
        "if x >= 200:\n",
        "    %run vis.py -i dot_host.csv dot_device.csv -l Host Device -c indianred limegreen -t \"Real Complexity of Dot Product (linear job)\"\n",
        "else:\n",
        "    %run vis.py -i dot_host.csv dot_device.csv -l Host Device -c indianred limegreen -t \"Real Complexity of Dot Product (linear job)\" -m"
      ],
      "metadata": {
        "cellView": "form",
        "id": "9U5gOqJNHYNq"
      },
      "execution_count": null,
      "outputs": []
    },
    {
      "cell_type": "markdown",
      "source": [
        "#####Exponential job growth"
      ],
      "metadata": {
        "id": "0En6RxWXCX5B"
      }
    },
    {
      "cell_type": "code",
      "source": [
        "#@markdown $G(x) = 10^x + b$\n",
        "%cd $project_dir/build/benchmarks\n",
        "\n",
        "b = 1000 # @param {type:\"number\"}\n",
        "x = 10 # @param {type:\"number\"}\n",
        "\n",
        "!./dotbench -e -b $b -n $x -o dot_host.csv\n",
        "!./dotbench -e -b $b -n $x -o dot_device.csv -d\n",
        "\n",
        "%run vis.py -i dot_host.csv dot_device.csv -l Host Device -c indianred limegreen -t \"Real Complexity of Dot Product (exponential job)\" -m"
      ],
      "metadata": {
        "cellView": "form",
        "id": "X9q9FKBWIaRc"
      },
      "execution_count": null,
      "outputs": []
    },
    {
      "cell_type": "code",
      "source": [],
      "metadata": {
        "id": "5dVSbwKDZX6z"
      },
      "execution_count": null,
      "outputs": []
    }
  ]
}