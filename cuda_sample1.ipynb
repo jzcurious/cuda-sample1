{
  "nbformat": 4,
  "nbformat_minor": 0,
  "metadata": {
    "colab": {
      "provenance": [],
      "gpuType": "T4"
    },
    "kernelspec": {
      "name": "python3",
      "display_name": "Python 3"
    },
    "language_info": {
      "name": "python"
    },
    "accelerator": "GPU"
  },
  "cells": [
    {
      "cell_type": "code",
      "source": [
        "#@markdown ####Fetch\n",
        "%cd\n",
        "\n",
        "!git clone -b dev https://github.com/jzcurious/cuda-sample1.git\n",
        "%cd cuda-sample1\n",
        "\n",
        "project_dir = !pwd\n",
        "project_dir = project_dir[0]\n"
      ],
      "metadata": {
        "cellView": "form",
        "id": "Pc479q5ES2b3",
        "colab": {
          "base_uri": "https://localhost:8080/"
        },
        "outputId": "95267c3c-5140-43ea-b112-8d2d0f367b5c"
      },
      "execution_count": 48,
      "outputs": [
        {
          "output_type": "stream",
          "name": "stdout",
          "text": [
            "/root\n",
            "Cloning into 'cuda-sample1'...\n",
            "remote: Enumerating objects: 33, done.\u001b[K\n",
            "remote: Counting objects: 100% (33/33), done.\u001b[K\n",
            "remote: Compressing objects: 100% (28/28), done.\u001b[K\n",
            "remote: Total 33 (delta 1), reused 33 (delta 1), pack-reused 0 (from 0)\u001b[K\n",
            "Receiving objects: 100% (33/33), 13.59 KiB | 13.59 MiB/s, done.\n",
            "Resolving deltas: 100% (1/1), done.\n",
            "/root/cuda-sample1\n"
          ]
        }
      ]
    },
    {
      "cell_type": "markdown",
      "source": [
        "####Debug build (host)"
      ],
      "metadata": {
        "id": "JASuzeT_-qVN"
      }
    },
    {
      "cell_type": "code",
      "execution_count": 49,
      "metadata": {
        "id": "6aa21Tp-RRjB",
        "colab": {
          "base_uri": "https://localhost:8080/"
        },
        "outputId": "7d1dd89d-f39b-4991-bda0-976a62736a4e"
      },
      "outputs": [
        {
          "output_type": "stream",
          "name": "stdout",
          "text": [
            "/root/cuda-sample1\n",
            "/root/cuda-sample1/build\n",
            "-- The CXX compiler identification is GNU 11.4.0\n",
            "-- The CUDA compiler identification is NVIDIA 12.2.140\n",
            "-- Detecting CXX compiler ABI info\n",
            "-- Detecting CXX compiler ABI info - done\n",
            "-- Check for working CXX compiler: /usr/bin/c++ - skipped\n",
            "-- Detecting CXX compile features\n",
            "-- Detecting CXX compile features - done\n",
            "-- Detecting CUDA compiler ABI info\n",
            "-- Detecting CUDA compiler ABI info - done\n",
            "-- Check for working CUDA compiler: /usr/local/cuda/bin/nvcc - skipped\n",
            "-- Detecting CUDA compile features\n",
            "-- Detecting CUDA compile features - done\n",
            "-- Host debugging mode is enabled\n",
            "-- Testing is enabled\n",
            "Cloning into 'googletest-src'...\n",
            "HEAD is now at b514bdc8 Update version strings to 1.15.2 (#4583)\n",
            "-- The C compiler identification is GNU 11.4.0\n",
            "-- Detecting C compiler ABI info\n",
            "-- Detecting C compiler ABI info - done\n",
            "-- Check for working C compiler: /usr/bin/cc - skipped\n",
            "-- Detecting C compile features\n",
            "-- Detecting C compile features - done\n",
            "-- Performing Test CMAKE_HAVE_LIBC_PTHREAD\n",
            "-- Performing Test CMAKE_HAVE_LIBC_PTHREAD - Success\n",
            "-- Found Threads: TRUE\n",
            "-- Found CUDAToolkit: /usr/local/cuda/targets/x86_64-linux/include (found version \"12.2.140\")\n",
            "-- Configuring done (6.0s)\n",
            "-- Generating done (0.0s)\n",
            "-- Build files have been written to: /root/cuda-sample1/build\n",
            "[  7%] \u001b[32mBuilding CUDA object cuda-sample1-lib/CMakeFiles/cuda-sample1-lib.dir/src/dotprod.cu.o\u001b[0m\n",
            "[ 14%] \u001b[32mBuilding CXX object _deps/googletest-build/googletest/CMakeFiles/gtest.dir/src/gtest-all.cc.o\u001b[0m\n",
            "[ 21%] \u001b[32mBuilding CUDA object cuda-sample1-lib/CMakeFiles/cuda-sample1-lib.dir/src/dynblock.cu.o\u001b[0m\n",
            "[ 28%] \u001b[32m\u001b[1mLinking CUDA static library libcuda-sample1-lib.a\u001b[0m\n",
            "[ 28%] Built target cuda-sample1-lib\n",
            "[ 35%] \u001b[32m\u001b[1mLinking CXX static library ../../../lib/libgtest.a\u001b[0m\n",
            "[ 35%] Built target gtest\n",
            "[ 42%] \u001b[32mBuilding CXX object _deps/googletest-build/googlemock/CMakeFiles/gmock.dir/src/gmock-all.cc.o\u001b[0m\n",
            "[ 50%] \u001b[32mBuilding CXX object _deps/googletest-build/googletest/CMakeFiles/gtest_main.dir/src/gtest_main.cc.o\u001b[0m\n",
            "[ 57%] \u001b[32m\u001b[1mLinking CXX static library ../../../lib/libgtest_main.a\u001b[0m\n",
            "[ 57%] Built target gtest_main\n",
            "[ 64%] \u001b[32mBuilding CUDA object tests/CMakeFiles/cuda-sample1-test.dir/src/tests.cu.o\u001b[0m\n",
            "[ 71%] \u001b[32m\u001b[1mLinking CXX static library ../../../lib/libgmock.a\u001b[0m\n",
            "[ 71%] Built target gmock\n",
            "[ 78%] \u001b[32mBuilding CXX object _deps/googletest-build/googlemock/CMakeFiles/gmock_main.dir/src/gmock_main.cc.o\u001b[0m\n",
            "[ 85%] \u001b[32m\u001b[1mLinking CXX static library ../../../lib/libgmock_main.a\u001b[0m\n",
            "[ 85%] Built target gmock_main\n",
            "[ 92%] \u001b[32m\u001b[1mLinking CUDA device code CMakeFiles/cuda-sample1-test.dir/cmake_device_link.o\u001b[0m\n",
            "[100%] \u001b[32m\u001b[1mLinking CXX executable cuda-sample1-test\u001b[0m\n",
            "[100%] Built target cuda-sample1-test\n",
            "/root/cuda-sample1/build/tests\n"
          ]
        }
      ],
      "source": [
        "%cd $project_dir\n",
        "!mkdir -p build\n",
        "%cd build\n",
        "!cmake --fresh -DTESTING=1 -DCMAKE_BUILD_TYPE=DebugHost ..\n",
        "!cmake --build . -j4\n",
        "%cd tests"
      ]
    },
    {
      "cell_type": "code",
      "source": [
        "!ASAN_OPTIONS=\"protect_shadow_gap=0\" ./cuda-sample1-test --gtest_brief=1"
      ],
      "metadata": {
        "id": "O0pXaE-5fIh8",
        "colab": {
          "base_uri": "https://localhost:8080/"
        },
        "outputId": "af91f6c2-8240-496e-f145-3bc92f3141c3"
      },
      "execution_count": 50,
      "outputs": [
        {
          "output_type": "stream",
          "name": "stdout",
          "text": [
            "Running main() from /root/cuda-sample1/build/_deps/googletest-src/googletest/src/gtest_main.cc\n",
            "\u001b[0;32m[==========] \u001b[m36 tests from 3 test suites ran. (377 ms total)\n",
            "\u001b[0;32m[  PASSED  ] \u001b[m36 tests.\n"
          ]
        }
      ]
    },
    {
      "cell_type": "markdown",
      "source": [
        "####Debug build (device)"
      ],
      "metadata": {
        "id": "HPN5qCZn_Bz6"
      }
    },
    {
      "cell_type": "code",
      "source": [
        "%cd $project_dir\n",
        "!mkdir -p build\n",
        "%cd build\n",
        "!cmake --fresh -DTESTING=1 -DCMAKE_BUILD_TYPE=DebugDevice ..\n",
        "!cmake --build . -j4\n",
        "%cd tests"
      ],
      "metadata": {
        "id": "cO8q4QEiRZ11",
        "colab": {
          "base_uri": "https://localhost:8080/"
        },
        "outputId": "1d9464ae-08e1-4ea5-975b-82d9b6409c06"
      },
      "execution_count": 51,
      "outputs": [
        {
          "output_type": "stream",
          "name": "stdout",
          "text": [
            "/root/cuda-sample1\n",
            "/root/cuda-sample1/build\n",
            "-- The CXX compiler identification is GNU 11.4.0\n",
            "-- The CUDA compiler identification is NVIDIA 12.2.140\n",
            "-- Detecting CXX compiler ABI info\n",
            "-- Detecting CXX compiler ABI info - done\n",
            "-- Check for working CXX compiler: /usr/bin/c++ - skipped\n",
            "-- Detecting CXX compile features\n",
            "-- Detecting CXX compile features - done\n",
            "-- Detecting CUDA compiler ABI info\n",
            "-- Detecting CUDA compiler ABI info - done\n",
            "-- Check for working CUDA compiler: /usr/local/cuda/bin/nvcc - skipped\n",
            "-- Detecting CUDA compile features\n",
            "-- Detecting CUDA compile features - done\n",
            "-- Device debugging mode is enabled\n",
            "-- Testing is enabled\n",
            "Cloning into 'googletest-src'...\n",
            "HEAD is now at b514bdc8 Update version strings to 1.15.2 (#4583)\n",
            "-- The C compiler identification is GNU 11.4.0\n",
            "-- Detecting C compiler ABI info\n",
            "-- Detecting C compiler ABI info - done\n",
            "-- Check for working C compiler: /usr/bin/cc - skipped\n",
            "-- Detecting C compile features\n",
            "-- Detecting C compile features - done\n",
            "-- Performing Test CMAKE_HAVE_LIBC_PTHREAD\n",
            "-- Performing Test CMAKE_HAVE_LIBC_PTHREAD - Success\n",
            "-- Found Threads: TRUE\n",
            "-- Found CUDAToolkit: /usr/local/cuda/targets/x86_64-linux/include (found version \"12.2.140\")\n",
            "-- Configuring done (6.6s)\n",
            "-- Generating done (0.0s)\n",
            "-- Build files have been written to: /root/cuda-sample1/build\n",
            "[  7%] \u001b[32mBuilding CUDA object cuda-sample1-lib/CMakeFiles/cuda-sample1-lib.dir/src/dynblock.cu.o\u001b[0m\n",
            "[ 14%] \u001b[32mBuilding CUDA object cuda-sample1-lib/CMakeFiles/cuda-sample1-lib.dir/src/dotprod.cu.o\u001b[0m\n",
            "[ 21%] \u001b[32mBuilding CXX object _deps/googletest-build/googletest/CMakeFiles/gtest.dir/src/gtest-all.cc.o\u001b[0m\n",
            "[ 28%] \u001b[32m\u001b[1mLinking CUDA static library libcuda-sample1-lib.a\u001b[0m\n",
            "[ 28%] Built target cuda-sample1-lib\n",
            "[ 35%] \u001b[32m\u001b[1mLinking CXX static library ../../../lib/libgtest.a\u001b[0m\n",
            "[ 35%] Built target gtest\n",
            "[ 42%] \u001b[32mBuilding CXX object _deps/googletest-build/googletest/CMakeFiles/gtest_main.dir/src/gtest_main.cc.o\u001b[0m\n",
            "[ 50%] \u001b[32mBuilding CXX object _deps/googletest-build/googlemock/CMakeFiles/gmock.dir/src/gmock-all.cc.o\u001b[0m\n",
            "[ 57%] \u001b[32m\u001b[1mLinking CXX static library ../../../lib/libgtest_main.a\u001b[0m\n",
            "[ 57%] Built target gtest_main\n",
            "[ 64%] \u001b[32mBuilding CUDA object tests/CMakeFiles/cuda-sample1-test.dir/src/tests.cu.o\u001b[0m\n",
            "[ 71%] \u001b[32m\u001b[1mLinking CXX static library ../../../lib/libgmock.a\u001b[0m\n",
            "[ 71%] Built target gmock\n",
            "[ 78%] \u001b[32mBuilding CXX object _deps/googletest-build/googlemock/CMakeFiles/gmock_main.dir/src/gmock_main.cc.o\u001b[0m\n",
            "[ 85%] \u001b[32m\u001b[1mLinking CXX static library ../../../lib/libgmock_main.a\u001b[0m\n",
            "[ 85%] Built target gmock_main\n",
            "[ 92%] \u001b[32m\u001b[1mLinking CUDA device code CMakeFiles/cuda-sample1-test.dir/cmake_device_link.o\u001b[0m\n",
            "[100%] \u001b[32m\u001b[1mLinking CXX executable cuda-sample1-test\u001b[0m\n",
            "[100%] Built target cuda-sample1-test\n",
            "/root/cuda-sample1/build/tests\n"
          ]
        }
      ]
    },
    {
      "cell_type": "code",
      "source": [
        "!compute-sanitizer --target-processes all --tool memcheck --leak-check=full ./cuda-sample1-test --gtest_brief=1"
      ],
      "metadata": {
        "id": "GLZfRCcpRYda",
        "colab": {
          "base_uri": "https://localhost:8080/"
        },
        "outputId": "60e10d29-74d4-4afb-fd29-a5b792018ab3"
      },
      "execution_count": 52,
      "outputs": [
        {
          "output_type": "stream",
          "name": "stdout",
          "text": [
            "========= COMPUTE-SANITIZER\n",
            "Running main() from /root/cuda-sample1/build/_deps/googletest-src/googletest/src/gtest_main.cc\n",
            "\u001b[0;32m[==========] \u001b[m36 tests from 3 test suites ran. (452 ms total)\n",
            "\u001b[0;32m[  PASSED  ] \u001b[m36 tests.\n",
            "========= LEAK SUMMARY: 0 bytes leaked in 0 allocations\n",
            "========= ERROR SUMMARY: 0 errors\n"
          ]
        }
      ]
    },
    {
      "cell_type": "markdown",
      "source": [
        "####Release build"
      ],
      "metadata": {
        "id": "4zeQUqumAc41"
      }
    },
    {
      "cell_type": "code",
      "source": [
        "%cd $project_dir\n",
        "!mkdir -p build\n",
        "%cd build\n",
        "!cmake --fresh -DTESTING=1 -DBENCHMARKING=1 -DCMAKE_BUILD_TYPE=Release ..\n",
        "!cmake --build . -j4\n",
        "%cd tests"
      ],
      "metadata": {
        "id": "zBgze55vAjD-",
        "colab": {
          "base_uri": "https://localhost:8080/"
        },
        "outputId": "5ab6f411-864e-485b-d4a4-e0de243c950f"
      },
      "execution_count": 53,
      "outputs": [
        {
          "output_type": "stream",
          "name": "stdout",
          "text": [
            "/root/cuda-sample1\n",
            "/root/cuda-sample1/build\n",
            "-- The CXX compiler identification is GNU 11.4.0\n",
            "-- The CUDA compiler identification is NVIDIA 12.2.140\n",
            "-- Detecting CXX compiler ABI info\n",
            "-- Detecting CXX compiler ABI info - done\n",
            "-- Check for working CXX compiler: /usr/bin/c++ - skipped\n",
            "-- Detecting CXX compile features\n",
            "-- Detecting CXX compile features - done\n",
            "-- Detecting CUDA compiler ABI info\n",
            "-- Detecting CUDA compiler ABI info - done\n",
            "-- Check for working CUDA compiler: /usr/local/cuda/bin/nvcc - skipped\n",
            "-- Detecting CUDA compile features\n",
            "-- Detecting CUDA compile features - done\n",
            "-- Release mode is enabled\n",
            "-- Testing is enabled\n",
            "Cloning into 'googletest-src'...\n",
            "HEAD is now at b514bdc8 Update version strings to 1.15.2 (#4583)\n",
            "-- The C compiler identification is GNU 11.4.0\n",
            "-- Detecting C compiler ABI info\n",
            "-- Detecting C compiler ABI info - done\n",
            "-- Check for working C compiler: /usr/bin/cc - skipped\n",
            "-- Detecting C compile features\n",
            "-- Detecting C compile features - done\n",
            "-- Performing Test CMAKE_HAVE_LIBC_PTHREAD\n",
            "-- Performing Test CMAKE_HAVE_LIBC_PTHREAD - Success\n",
            "-- Found Threads: TRUE\n",
            "-- Found CUDAToolkit: /usr/local/cuda/targets/x86_64-linux/include (found version \"12.2.140\")\n",
            "-- Benchmarking is enabled\n",
            "Cloning into 'indicators-src'...\n",
            "HEAD is now at 26d39ad Bumped to version v2.3\n",
            "Cloning into 'argparse-src'...\n",
            "HEAD is now at 68fd027 Bumped to v3.1\n",
            "-- Configuring done (9.9s)\n",
            "-- Generating done (0.0s)\n",
            "-- Build files have been written to: /root/cuda-sample1/build\n",
            "[  5%] \u001b[32mBuilding CUDA object cuda-sample1-lib/CMakeFiles/cuda-sample1-lib.dir/src/dotprod.cu.o\u001b[0m\n",
            "[ 11%] \u001b[32mBuilding CUDA object cuda-sample1-lib/CMakeFiles/cuda-sample1-lib.dir/src/dynblock.cu.o\u001b[0m\n",
            "[ 17%] \u001b[32mBuilding CXX object _deps/googletest-build/googletest/CMakeFiles/gtest.dir/src/gtest-all.cc.o\u001b[0m\n",
            "[ 23%] \u001b[32m\u001b[1mLinking CUDA static library libcuda-sample1-lib.a\u001b[0m\n",
            "[ 23%] Built target cuda-sample1-lib\n",
            "[ 29%] \u001b[32mBuilding CUDA object benchmarks/CMakeFiles/dotbench.dir/src/dotbench.cu.o\u001b[0m\n",
            "[ 35%] \u001b[32m\u001b[1mLinking CXX static library ../../../lib/libgtest.a\u001b[0m\n",
            "[ 35%] Built target gtest\n",
            "[ 41%] \u001b[32mBuilding CXX object _deps/googletest-build/googlemock/CMakeFiles/gmock.dir/src/gmock-all.cc.o\u001b[0m\n",
            "[ 47%] \u001b[32mBuilding CXX object _deps/googletest-build/googletest/CMakeFiles/gtest_main.dir/src/gtest_main.cc.o\u001b[0m\n",
            "[ 52%] \u001b[32m\u001b[1mLinking CUDA device code CMakeFiles/dotbench.dir/cmake_device_link.o\u001b[0m\n",
            "[ 58%] \u001b[32m\u001b[1mLinking CUDA executable dotbench\u001b[0m\n",
            "[ 58%] Built target dotbench\n",
            "[ 64%] \u001b[32m\u001b[1mLinking CXX static library ../../../lib/libgtest_main.a\u001b[0m\n",
            "[ 64%] Built target gtest_main\n",
            "[ 70%] \u001b[32mBuilding CUDA object tests/CMakeFiles/cuda-sample1-test.dir/src/tests.cu.o\u001b[0m\n",
            "[ 76%] \u001b[32m\u001b[1mLinking CXX static library ../../../lib/libgmock.a\u001b[0m\n",
            "[ 76%] Built target gmock\n",
            "[ 82%] \u001b[32mBuilding CXX object _deps/googletest-build/googlemock/CMakeFiles/gmock_main.dir/src/gmock_main.cc.o\u001b[0m\n",
            "[ 88%] \u001b[32m\u001b[1mLinking CXX static library ../../../lib/libgmock_main.a\u001b[0m\n",
            "[ 88%] Built target gmock_main\n",
            "[ 94%] \u001b[32m\u001b[1mLinking CUDA device code CMakeFiles/cuda-sample1-test.dir/cmake_device_link.o\u001b[0m\n",
            "[100%] \u001b[32m\u001b[1mLinking CXX executable cuda-sample1-test\u001b[0m\n",
            "[100%] Built target cuda-sample1-test\n",
            "/root/cuda-sample1/build/tests\n"
          ]
        }
      ]
    },
    {
      "cell_type": "code",
      "source": [
        "!ctest"
      ],
      "metadata": {
        "id": "K0VtDsbFUEyz",
        "colab": {
          "base_uri": "https://localhost:8080/"
        },
        "outputId": "034cb706-28dd-47b8-9bbf-5ab2cd121f24"
      },
      "execution_count": 54,
      "outputs": [
        {
          "output_type": "stream",
          "name": "stdout",
          "text": [
            "Test project /root/cuda-sample1/build/tests\n",
            "      Start  1: AllocTest.floatScal\n",
            " 1/36 Test  #1: AllocTest.floatScal ..............   Passed    0.13 sec\n",
            "      Start  2: AllocTest.floatVecLen101\n",
            " 2/36 Test  #2: AllocTest.floatVecLen101 .........   Passed    0.11 sec\n",
            "      Start  3: AllocTest.intScal\n",
            " 3/36 Test  #3: AllocTest.intScal ................   Passed    0.11 sec\n",
            "      Start  4: AllocTest.intVecLen101\n",
            " 4/36 Test  #4: AllocTest.intVecLen101 ...........   Passed    0.12 sec\n",
            "      Start  5: AllocTest.unsignedScal\n",
            " 5/36 Test  #5: AllocTest.unsignedScal ...........   Passed    0.12 sec\n",
            "      Start  6: AllocTest.unsignedVecLen101\n",
            " 6/36 Test  #6: AllocTest.unsignedVecLen101 ......   Passed    0.11 sec\n",
            "      Start  7: TransTest.floatScal\n",
            " 7/36 Test  #7: TransTest.floatScal ..............   Passed    0.11 sec\n",
            "      Start  8: TransTest.floatVecLen101\n",
            " 8/36 Test  #8: TransTest.floatVecLen101 .........   Passed    0.12 sec\n",
            "      Start  9: TransTest.floatVecLen1001\n",
            " 9/36 Test  #9: TransTest.floatVecLen1001 ........   Passed    0.12 sec\n",
            "      Start 10: TransTest.floatVecLen10001\n",
            "10/36 Test #10: TransTest.floatVecLen10001 .......   Passed    0.12 sec\n",
            "      Start 11: TransTest.floatVecLen100001\n",
            "11/36 Test #11: TransTest.floatVecLen100001 ......   Passed    0.12 sec\n",
            "      Start 12: TransTest.intScal\n",
            "12/36 Test #12: TransTest.intScal ................   Passed    0.11 sec\n",
            "      Start 13: TransTest.intVecLen101\n",
            "13/36 Test #13: TransTest.intVecLen101 ...........   Passed    0.12 sec\n",
            "      Start 14: TransTest.intVecLen1001\n",
            "14/36 Test #14: TransTest.intVecLen1001 ..........   Passed    0.11 sec\n",
            "      Start 15: TransTest.intVecLen10001\n",
            "15/36 Test #15: TransTest.intVecLen10001 .........   Passed    0.12 sec\n",
            "      Start 16: TransTest.intVecLen100001\n",
            "16/36 Test #16: TransTest.intVecLen100001 ........   Passed    0.12 sec\n",
            "      Start 17: TransTest.unsignedScal\n",
            "17/36 Test #17: TransTest.unsignedScal ...........   Passed    0.11 sec\n",
            "      Start 18: TransTest.unsignedVecLen101\n",
            "18/36 Test #18: TransTest.unsignedVecLen101 ......   Passed    0.12 sec\n",
            "      Start 19: TransTest.unsignedVecLen1001\n",
            "19/36 Test #19: TransTest.unsignedVecLen1001 .....   Passed    0.11 sec\n",
            "      Start 20: TransTest.unsignedVecLen10001\n",
            "20/36 Test #20: TransTest.unsignedVecLen10001 ....   Passed    0.12 sec\n",
            "      Start 21: TransTest.unsignedVecLen100001\n",
            "21/36 Test #21: TransTest.unsignedVecLen100001 ...   Passed    0.13 sec\n",
            "      Start 22: DotTest.floatLen1\n",
            "22/36 Test #22: DotTest.floatLen1 ................   Passed    0.12 sec\n",
            "      Start 23: DotTest.floatLen101\n",
            "23/36 Test #23: DotTest.floatLen101 ..............   Passed    0.12 sec\n",
            "      Start 24: DotTest.floatLen1001\n",
            "24/36 Test #24: DotTest.floatLen1001 .............   Passed    0.12 sec\n",
            "      Start 25: DotTest.floatLen10001\n",
            "25/36 Test #25: DotTest.floatLen10001 ............   Passed    0.12 sec\n",
            "      Start 26: DotTest.floatLen100001\n",
            "26/36 Test #26: DotTest.floatLen100001 ...........   Passed    0.13 sec\n",
            "      Start 27: DotTest.intLen1\n",
            "27/36 Test #27: DotTest.intLen1 ..................   Passed    0.12 sec\n",
            "      Start 28: DotTest.intLen101\n",
            "28/36 Test #28: DotTest.intLen101 ................   Passed    0.12 sec\n",
            "      Start 29: DotTest.intLen1001\n",
            "29/36 Test #29: DotTest.intLen1001 ...............   Passed    0.12 sec\n",
            "      Start 30: DotTest.intLen10001\n",
            "30/36 Test #30: DotTest.intLen10001 ..............   Passed    0.13 sec\n",
            "      Start 31: DotTest.intLen100001\n",
            "31/36 Test #31: DotTest.intLen100001 .............   Passed    0.12 sec\n",
            "      Start 32: DotTest.unsignedLen1\n",
            "32/36 Test #32: DotTest.unsignedLen1 .............   Passed    0.12 sec\n",
            "      Start 33: DotTest.unsignedLen101\n",
            "33/36 Test #33: DotTest.unsignedLen101 ...........   Passed    0.12 sec\n",
            "      Start 34: DotTest.unsignedLen1001\n",
            "34/36 Test #34: DotTest.unsignedLen1001 ..........   Passed    0.11 sec\n",
            "      Start 35: DotTest.unsignedLen10001\n",
            "35/36 Test #35: DotTest.unsignedLen10001 .........   Passed    0.12 sec\n",
            "      Start 36: DotTest.unsignedLen100001\n",
            "36/36 Test #36: DotTest.unsignedLen100001 ........   Passed    0.12 sec\n",
            "\n",
            "\u001b[0;32m100% tests passed\u001b[0;0m, 0 tests failed\u001b[0;0m out of 36\n",
            "\n",
            "Total Test time (real) =   4.27 sec\n"
          ]
        }
      ]
    },
    {
      "cell_type": "markdown",
      "source": [
        "####Benchmarking"
      ],
      "metadata": {
        "id": "hwx-00LWA9Db"
      }
    },
    {
      "cell_type": "markdown",
      "source": [
        "#####Linear job growth"
      ],
      "metadata": {
        "id": "w9BbqVP8CIFh"
      }
    },
    {
      "cell_type": "code",
      "source": [
        "#@markdown $G(x) = 100x + b$\n",
        "%cd $project_dir/build/benchmarks\n",
        "\n",
        "b = 400 # @param {type:\"slider\", min:100, max:1000, step:100}\n",
        "x = 100 # @param {type:\"slider\", min:100, max:10000, step:100}\n",
        "\n",
        "!./dotbench -b $b -n $x -o dot_host.csv\n",
        "!./dotbench -b $b -n $x -o dot_device.csv -d\n",
        "\n",
        "if x >= 200:\n",
        "    %run vis.py -i dot_host.csv dot_device.csv -l Host Device -c indianred limegreen -t \"Real Complexity of Dot Product (linear job)\"\n",
        "else:\n",
        "    %run vis.py -i dot_host.csv dot_device.csv -l Host Device -c indianred limegreen -t \"Real Complexity of Dot Product (linear job)\" -m"
      ],
      "metadata": {
        "cellView": "form",
        "id": "9U5gOqJNHYNq",
        "colab": {
          "base_uri": "https://localhost:8080/",
          "height": 597
        },
        "outputId": "26076933-ed83-4722-ca11-d608a05be9eb"
      },
      "execution_count": 55,
      "outputs": [
        {
          "output_type": "stream",
          "name": "stdout",
          "text": [
            "/root/cuda-sample1/build/benchmarks\n",
            "100/100[■■■■■■■■■■■■■■■■■■■■■■■■■■■■■■■■■■■■■■■■■■■■■■■■■■ ] Host\u001b[00m\n",
            "100/100[■■■■■■■■■■■■■■■■■■■■■■■■■■■■■■■■■■■■■■■■■■■■■■■■■■ ] Device\u001b[00m\n"
          ]
        },
        {
          "output_type": "display_data",
          "data": {
            "text/html": [
              "<html>\n",
              "<head><meta charset=\"utf-8\" /></head>\n",
              "<body>\n",
              "    <div>            <script src=\"https://cdnjs.cloudflare.com/ajax/libs/mathjax/2.7.5/MathJax.js?config=TeX-AMS-MML_SVG\"></script><script type=\"text/javascript\">if (window.MathJax && window.MathJax.Hub && window.MathJax.Hub.Config) {window.MathJax.Hub.Config({SVG: {font: \"STIX-Web\"}});}</script>                <script type=\"text/javascript\">window.PlotlyConfig = {MathJaxConfig: 'local'};</script>\n",
              "        <script charset=\"utf-8\" src=\"https://cdn.plot.ly/plotly-2.35.2.min.js\"></script>                <div id=\"bc58626f-ac7e-4223-bb89-cb044d295e5c\" class=\"plotly-graph-div\" style=\"height:525px; width:100%;\"></div>            <script type=\"text/javascript\">                                    window.PLOTLYENV=window.PLOTLYENV || {};                                    if (document.getElementById(\"bc58626f-ac7e-4223-bb89-cb044d295e5c\")) {                    Plotly.newPlot(                        \"bc58626f-ac7e-4223-bb89-cb044d295e5c\",                        [{\"line\":{\"dash\":\"solid\",\"color\":\"indianred\"},\"mode\":\"lines+markers\",\"name\":\"Host\",\"x\":[400,500,600,700,800,900,1000,1100,1200,1300,1400,1500,1600,1700,1800,1900,2000,2100,2200,2300,2400,2500,2600,2700,2800,2900,3000,3100,3200,3300,3400,3500,3600,3700,3800,3900,4000,4100,4200,4300,4400,4500,4600,4700,4800,4900,5000,5100,5200,5300,5400,5500,5600,5700,5800,5900,6000,6100,6200,6300,6400,6500,6600,6700,6800,6900,7000,7100,7200,7300,7400,7500,7600,7700,7800,7900,8000,8100,8200,8300,8400,8500,8600,8700,8800,8900,9000,9100,9200,9300,9400,9500,9600,9700,9800,9900,10000,10100,10200,10300],\"y\":[5.99e-07,7.33333e-07,8.60667e-07,9.37e-07,1.05767e-06,1.18e-06,1.30733e-06,1.49933e-06,1.59533e-06,1.70233e-06,1.80833e-06,1.94167e-06,2.05433e-06,2.17967e-06,2.326e-06,2.43467e-06,2.56133e-06,2.69133e-06,2.80967e-06,2.95267e-06,3.07533e-06,3.18033e-06,3.32667e-06,3.435e-06,3.56167e-06,3.707e-06,3.807e-06,4.048e-06,4.05633e-06,4.198e-06,4.32433e-06,4.43367e-06,4.56167e-06,4.684e-06,4.809e-06,4.941e-06,5.234e-06,5.417e-06,5.44067e-06,5.62e-06,5.74e-06,5.72967e-06,5.83967e-06,5.94633e-06,6.07733e-06,6.198e-06,6.326e-06,6.44533e-06,6.573e-06,6.705e-06,6.82067e-06,6.945e-06,7.06633e-06,7.19733e-06,7.32533e-06,1.05267e-05,7.566e-06,7.70633e-06,7.82933e-06,7.95633e-06,8.069e-06,8.2e-06,8.321e-06,8.442e-06,8.57267e-06,8.87267e-06,9.19967e-06,9.263e-06,9.658e-06,9.51133e-06,9.54467e-06,9.65567e-06,9.78467e-06,9.90867e-06,1.01347e-05,1.01727e-05,1.02847e-05,1.0413e-05,1.05243e-05,1.06707e-05,1.0939e-05,1.09927e-05,1.10347e-05,1.11943e-05,1.1345e-05,1.1519e-05,1.1877e-05,1.14837e-05,1.23763e-05,1.2504e-05,1.191e-05,1.19877e-05,1.21003e-05,1.2234e-05,1.23653e-05,1.26143e-05,1.26077e-05,1.78307e-05,1.285e-05,1.2982e-05],\"type\":\"scatter\",\"showlegend\":true},{\"line\":{\"dash\":\"solid\",\"color\":\"limegreen\"},\"mode\":\"lines+markers\",\"name\":\"Device\",\"x\":[400,500,600,700,800,900,1000,1100,1200,1300,1400,1500,1600,1700,1800,1900,2000,2100,2200,2300,2400,2500,2600,2700,2800,2900,3000,3100,3200,3300,3400,3500,3600,3700,3800,3900,4000,4100,4200,4300,4400,4500,4600,4700,4800,4900,5000,5100,5200,5300,5400,5500,5600,5700,5800,5900,6000,6100,6200,6300,6400,6500,6600,6700,6800,6900,7000,7100,7200,7300,7400,7500,7600,7700,7800,7900,8000,8100,8200,8300,8400,8500,8600,8700,8800,8900,9000,9100,9200,9300,9400,9500,9600,9700,9800,9900,10000,10100,10200,10300],\"y\":[2.0512e-05,1.6992e-05,1.69707e-05,2.15787e-05,1.74933e-05,1.86667e-05,1.80587e-05,1.8336e-05,1.85067e-05,1.8656e-05,1.8432e-05,1.92747e-05,1.9488e-05,2.00533e-05,2.0096e-05,2.05653e-05,2.58773e-05,2.12587e-05,2.15787e-05,2.1376e-05,2.2176e-05,2.2144e-05,2.17493e-05,2.2528e-05,2.2976e-05,2.23893e-05,2.36373e-05,2.34027e-05,2.4512e-05,2.45227e-05,2.3904e-05,2.5184e-05,2.4704e-05,2.53013e-05,2.50773e-05,2.99093e-05,2.6112e-05,2.69333e-05,2.656e-05,2.6656e-05,3.19253e-05,2.7296e-05,2.77547e-05,2.75307e-05,2.8096e-05,2.85867e-05,2.85333e-05,2.9312e-05,2.88107e-05,2.95893e-05,3.424e-05,2.9696e-05,3.072e-05,3.16587e-05,3.18613e-05,3.1136e-05,3.16907e-05,3.12533e-05,3.21493e-05,3.14133e-05,3.18187e-05,3.24267e-05,3.26827e-05,3.2928e-05,3.29813e-05,3.44e-05,3.41333e-05,3.3728e-05,3.36213e-05,3.47947e-05,3.5008e-05,3.52107e-05,3.5808e-05,3.5456e-05,3.5392e-05,3.72693e-05,3.77387e-05,3.8432e-05,3.72587e-05,3.71627e-05,3.74293e-05,3.85387e-05,3.8624e-05,4.30933e-05,3.87307e-05,3.88267e-05,4.67413e-05,3.90507e-05,3.9552e-05,4.20267e-05,4.0128e-05,4.37333e-05,4.10987e-05,4.1472e-05,4.16e-05,4.11413e-05,4.16533e-05,4.25067e-05,4.32427e-05,4.28587e-05],\"type\":\"scatter\",\"showlegend\":true}],                        {\"hovermode\":\"closest\",\"template\":{\"data\":{\"barpolar\":[{\"marker\":{\"line\":{\"color\":\"rgb(17,17,17)\",\"width\":0.5},\"pattern\":{\"fillmode\":\"overlay\",\"size\":10,\"solidity\":0.2}},\"type\":\"barpolar\"}],\"bar\":[{\"error_x\":{\"color\":\"#f2f5fa\"},\"error_y\":{\"color\":\"#f2f5fa\"},\"marker\":{\"line\":{\"color\":\"rgb(17,17,17)\",\"width\":0.5},\"pattern\":{\"fillmode\":\"overlay\",\"size\":10,\"solidity\":0.2}},\"type\":\"bar\"}],\"carpet\":[{\"aaxis\":{\"endlinecolor\":\"#A2B1C6\",\"gridcolor\":\"#506784\",\"linecolor\":\"#506784\",\"minorgridcolor\":\"#506784\",\"startlinecolor\":\"#A2B1C6\"},\"baxis\":{\"endlinecolor\":\"#A2B1C6\",\"gridcolor\":\"#506784\",\"linecolor\":\"#506784\",\"minorgridcolor\":\"#506784\",\"startlinecolor\":\"#A2B1C6\"},\"type\":\"carpet\"}],\"choropleth\":[{\"colorbar\":{\"outlinewidth\":0,\"ticks\":\"\"},\"type\":\"choropleth\"}],\"contourcarpet\":[{\"colorbar\":{\"outlinewidth\":0,\"ticks\":\"\"},\"type\":\"contourcarpet\"}],\"contour\":[{\"colorbar\":{\"outlinewidth\":0,\"ticks\":\"\"},\"colorscale\":[[0.0,\"#0d0887\"],[0.1111111111111111,\"#46039f\"],[0.2222222222222222,\"#7201a8\"],[0.3333333333333333,\"#9c179e\"],[0.4444444444444444,\"#bd3786\"],[0.5555555555555556,\"#d8576b\"],[0.6666666666666666,\"#ed7953\"],[0.7777777777777778,\"#fb9f3a\"],[0.8888888888888888,\"#fdca26\"],[1.0,\"#f0f921\"]],\"type\":\"contour\"}],\"heatmapgl\":[{\"colorbar\":{\"outlinewidth\":0,\"ticks\":\"\"},\"colorscale\":[[0.0,\"#0d0887\"],[0.1111111111111111,\"#46039f\"],[0.2222222222222222,\"#7201a8\"],[0.3333333333333333,\"#9c179e\"],[0.4444444444444444,\"#bd3786\"],[0.5555555555555556,\"#d8576b\"],[0.6666666666666666,\"#ed7953\"],[0.7777777777777778,\"#fb9f3a\"],[0.8888888888888888,\"#fdca26\"],[1.0,\"#f0f921\"]],\"type\":\"heatmapgl\"}],\"heatmap\":[{\"colorbar\":{\"outlinewidth\":0,\"ticks\":\"\"},\"colorscale\":[[0.0,\"#0d0887\"],[0.1111111111111111,\"#46039f\"],[0.2222222222222222,\"#7201a8\"],[0.3333333333333333,\"#9c179e\"],[0.4444444444444444,\"#bd3786\"],[0.5555555555555556,\"#d8576b\"],[0.6666666666666666,\"#ed7953\"],[0.7777777777777778,\"#fb9f3a\"],[0.8888888888888888,\"#fdca26\"],[1.0,\"#f0f921\"]],\"type\":\"heatmap\"}],\"histogram2dcontour\":[{\"colorbar\":{\"outlinewidth\":0,\"ticks\":\"\"},\"colorscale\":[[0.0,\"#0d0887\"],[0.1111111111111111,\"#46039f\"],[0.2222222222222222,\"#7201a8\"],[0.3333333333333333,\"#9c179e\"],[0.4444444444444444,\"#bd3786\"],[0.5555555555555556,\"#d8576b\"],[0.6666666666666666,\"#ed7953\"],[0.7777777777777778,\"#fb9f3a\"],[0.8888888888888888,\"#fdca26\"],[1.0,\"#f0f921\"]],\"type\":\"histogram2dcontour\"}],\"histogram2d\":[{\"colorbar\":{\"outlinewidth\":0,\"ticks\":\"\"},\"colorscale\":[[0.0,\"#0d0887\"],[0.1111111111111111,\"#46039f\"],[0.2222222222222222,\"#7201a8\"],[0.3333333333333333,\"#9c179e\"],[0.4444444444444444,\"#bd3786\"],[0.5555555555555556,\"#d8576b\"],[0.6666666666666666,\"#ed7953\"],[0.7777777777777778,\"#fb9f3a\"],[0.8888888888888888,\"#fdca26\"],[1.0,\"#f0f921\"]],\"type\":\"histogram2d\"}],\"histogram\":[{\"marker\":{\"pattern\":{\"fillmode\":\"overlay\",\"size\":10,\"solidity\":0.2}},\"type\":\"histogram\"}],\"mesh3d\":[{\"colorbar\":{\"outlinewidth\":0,\"ticks\":\"\"},\"type\":\"mesh3d\"}],\"parcoords\":[{\"line\":{\"colorbar\":{\"outlinewidth\":0,\"ticks\":\"\"}},\"type\":\"parcoords\"}],\"pie\":[{\"automargin\":true,\"type\":\"pie\"}],\"scatter3d\":[{\"line\":{\"colorbar\":{\"outlinewidth\":0,\"ticks\":\"\"}},\"marker\":{\"colorbar\":{\"outlinewidth\":0,\"ticks\":\"\"}},\"type\":\"scatter3d\"}],\"scattercarpet\":[{\"marker\":{\"colorbar\":{\"outlinewidth\":0,\"ticks\":\"\"}},\"type\":\"scattercarpet\"}],\"scattergeo\":[{\"marker\":{\"colorbar\":{\"outlinewidth\":0,\"ticks\":\"\"}},\"type\":\"scattergeo\"}],\"scattergl\":[{\"marker\":{\"line\":{\"color\":\"#283442\"}},\"type\":\"scattergl\"}],\"scattermapbox\":[{\"marker\":{\"colorbar\":{\"outlinewidth\":0,\"ticks\":\"\"}},\"type\":\"scattermapbox\"}],\"scatterpolargl\":[{\"marker\":{\"colorbar\":{\"outlinewidth\":0,\"ticks\":\"\"}},\"type\":\"scatterpolargl\"}],\"scatterpolar\":[{\"marker\":{\"colorbar\":{\"outlinewidth\":0,\"ticks\":\"\"}},\"type\":\"scatterpolar\"}],\"scatter\":[{\"marker\":{\"line\":{\"color\":\"#283442\"}},\"type\":\"scatter\"}],\"scatterternary\":[{\"marker\":{\"colorbar\":{\"outlinewidth\":0,\"ticks\":\"\"}},\"type\":\"scatterternary\"}],\"surface\":[{\"colorbar\":{\"outlinewidth\":0,\"ticks\":\"\"},\"colorscale\":[[0.0,\"#0d0887\"],[0.1111111111111111,\"#46039f\"],[0.2222222222222222,\"#7201a8\"],[0.3333333333333333,\"#9c179e\"],[0.4444444444444444,\"#bd3786\"],[0.5555555555555556,\"#d8576b\"],[0.6666666666666666,\"#ed7953\"],[0.7777777777777778,\"#fb9f3a\"],[0.8888888888888888,\"#fdca26\"],[1.0,\"#f0f921\"]],\"type\":\"surface\"}],\"table\":[{\"cells\":{\"fill\":{\"color\":\"#506784\"},\"line\":{\"color\":\"rgb(17,17,17)\"}},\"header\":{\"fill\":{\"color\":\"#2a3f5f\"},\"line\":{\"color\":\"rgb(17,17,17)\"}},\"type\":\"table\"}]},\"layout\":{\"annotationdefaults\":{\"arrowcolor\":\"#f2f5fa\",\"arrowhead\":0,\"arrowwidth\":1},\"autotypenumbers\":\"strict\",\"coloraxis\":{\"colorbar\":{\"outlinewidth\":0,\"ticks\":\"\"}},\"colorscale\":{\"diverging\":[[0,\"#8e0152\"],[0.1,\"#c51b7d\"],[0.2,\"#de77ae\"],[0.3,\"#f1b6da\"],[0.4,\"#fde0ef\"],[0.5,\"#f7f7f7\"],[0.6,\"#e6f5d0\"],[0.7,\"#b8e186\"],[0.8,\"#7fbc41\"],[0.9,\"#4d9221\"],[1,\"#276419\"]],\"sequential\":[[0.0,\"#0d0887\"],[0.1111111111111111,\"#46039f\"],[0.2222222222222222,\"#7201a8\"],[0.3333333333333333,\"#9c179e\"],[0.4444444444444444,\"#bd3786\"],[0.5555555555555556,\"#d8576b\"],[0.6666666666666666,\"#ed7953\"],[0.7777777777777778,\"#fb9f3a\"],[0.8888888888888888,\"#fdca26\"],[1.0,\"#f0f921\"]],\"sequentialminus\":[[0.0,\"#0d0887\"],[0.1111111111111111,\"#46039f\"],[0.2222222222222222,\"#7201a8\"],[0.3333333333333333,\"#9c179e\"],[0.4444444444444444,\"#bd3786\"],[0.5555555555555556,\"#d8576b\"],[0.6666666666666666,\"#ed7953\"],[0.7777777777777778,\"#fb9f3a\"],[0.8888888888888888,\"#fdca26\"],[1.0,\"#f0f921\"]]},\"colorway\":[\"#636efa\",\"#EF553B\",\"#00cc96\",\"#ab63fa\",\"#FFA15A\",\"#19d3f3\",\"#FF6692\",\"#B6E880\",\"#FF97FF\",\"#FECB52\"],\"font\":{\"color\":\"#f2f5fa\"},\"geo\":{\"bgcolor\":\"rgb(17,17,17)\",\"lakecolor\":\"rgb(17,17,17)\",\"landcolor\":\"rgb(17,17,17)\",\"showlakes\":true,\"showland\":true,\"subunitcolor\":\"#506784\"},\"hoverlabel\":{\"align\":\"left\"},\"hovermode\":\"closest\",\"mapbox\":{\"style\":\"dark\"},\"paper_bgcolor\":\"rgb(17,17,17)\",\"plot_bgcolor\":\"rgb(17,17,17)\",\"polar\":{\"angularaxis\":{\"gridcolor\":\"#506784\",\"linecolor\":\"#506784\",\"ticks\":\"\"},\"bgcolor\":\"rgb(17,17,17)\",\"radialaxis\":{\"gridcolor\":\"#506784\",\"linecolor\":\"#506784\",\"ticks\":\"\"}},\"scene\":{\"xaxis\":{\"backgroundcolor\":\"rgb(17,17,17)\",\"gridcolor\":\"#506784\",\"gridwidth\":2,\"linecolor\":\"#506784\",\"showbackground\":true,\"ticks\":\"\",\"zerolinecolor\":\"#C8D4E3\"},\"yaxis\":{\"backgroundcolor\":\"rgb(17,17,17)\",\"gridcolor\":\"#506784\",\"gridwidth\":2,\"linecolor\":\"#506784\",\"showbackground\":true,\"ticks\":\"\",\"zerolinecolor\":\"#C8D4E3\"},\"zaxis\":{\"backgroundcolor\":\"rgb(17,17,17)\",\"gridcolor\":\"#506784\",\"gridwidth\":2,\"linecolor\":\"#506784\",\"showbackground\":true,\"ticks\":\"\",\"zerolinecolor\":\"#C8D4E3\"}},\"shapedefaults\":{\"line\":{\"color\":\"#f2f5fa\"}},\"sliderdefaults\":{\"bgcolor\":\"#C8D4E3\",\"bordercolor\":\"rgb(17,17,17)\",\"borderwidth\":1,\"tickwidth\":0},\"ternary\":{\"aaxis\":{\"gridcolor\":\"#506784\",\"linecolor\":\"#506784\",\"ticks\":\"\"},\"baxis\":{\"gridcolor\":\"#506784\",\"linecolor\":\"#506784\",\"ticks\":\"\"},\"bgcolor\":\"rgb(17,17,17)\",\"caxis\":{\"gridcolor\":\"#506784\",\"linecolor\":\"#506784\",\"ticks\":\"\"}},\"title\":{\"x\":0.05},\"updatemenudefaults\":{\"bgcolor\":\"#506784\",\"borderwidth\":0},\"xaxis\":{\"automargin\":true,\"gridcolor\":\"#283442\",\"linecolor\":\"#506784\",\"ticks\":\"\",\"title\":{\"standoff\":15},\"zerolinecolor\":\"#283442\",\"zerolinewidth\":2},\"yaxis\":{\"automargin\":true,\"gridcolor\":\"#283442\",\"linecolor\":\"#506784\",\"ticks\":\"\",\"title\":{\"standoff\":15},\"zerolinecolor\":\"#283442\",\"zerolinewidth\":2}}},\"title\":{\"text\":\"Real Complexity of Dot Product (linear job)\",\"x\":0.5},\"xaxis\":{\"autorange\":true,\"title\":{\"text\":\"Length\"}},\"yaxis\":{\"autorange\":true,\"title\":{\"text\":\"Time\"}}},                        {\"responsive\": true}                    ).then(function(){\n",
              "                            \n",
              "var gd = document.getElementById('bc58626f-ac7e-4223-bb89-cb044d295e5c');\n",
              "var x = new MutationObserver(function (mutations, observer) {{\n",
              "        var display = window.getComputedStyle(gd).display;\n",
              "        if (!display || display === 'none') {{\n",
              "            console.log([gd, 'removed!']);\n",
              "            Plotly.purge(gd);\n",
              "            observer.disconnect();\n",
              "        }}\n",
              "}});\n",
              "\n",
              "// Listen for the removal of the full notebook cells\n",
              "var notebookContainer = gd.closest('#notebook-container');\n",
              "if (notebookContainer) {{\n",
              "    x.observe(notebookContainer, {childList: true});\n",
              "}}\n",
              "\n",
              "// Listen for the clearing of the current output cell\n",
              "var outputEl = gd.closest('.output');\n",
              "if (outputEl) {{\n",
              "    x.observe(outputEl, {childList: true});\n",
              "}}\n",
              "\n",
              "                        })                };                            </script>        </div>\n",
              "</body>\n",
              "</html>"
            ]
          },
          "metadata": {}
        }
      ]
    },
    {
      "cell_type": "markdown",
      "source": [
        "#####Exponential job growth"
      ],
      "metadata": {
        "id": "0En6RxWXCX5B"
      }
    },
    {
      "cell_type": "code",
      "source": [
        "#@markdown $G(x) = 2^x + b$\n",
        "%cd $project_dir/build/benchmarks\n",
        "\n",
        "b = 1000 # @param {type:\"slider\", min:100, max:1000, step:100}\n",
        "x = 19 # @param {type:\"slider\", min:1, max:25, step:1}\n",
        "\n",
        "!./dotbench -e -b $b -n $x -o dot_host.csv\n",
        "!./dotbench -e -b $b -n $x -o dot_device.csv -d\n",
        "\n",
        "%run vis.py -i dot_host.csv dot_device.csv -l Host Device -c indianred limegreen -t \"Real Complexity of Dot Product (exponential job)\" -m"
      ],
      "metadata": {
        "cellView": "form",
        "id": "X9q9FKBWIaRc",
        "colab": {
          "base_uri": "https://localhost:8080/",
          "height": 597
        },
        "outputId": "f0b4264e-aa7b-4ae6-cfaf-b3762e25e398"
      },
      "execution_count": 56,
      "outputs": [
        {
          "output_type": "stream",
          "name": "stdout",
          "text": [
            "/root/cuda-sample1/build/benchmarks\n",
            "19/19[■■■■■■■■■■■■■■■■■■■■■■■■■■■■■■■■■■■■■■■■■■■■■■■■■■ ] Host\u001b[00m\n",
            "19/19[■■■■■■■■■■■■■■■■■■■■■■■■■■■■■■■■■■■■■■■■■■■■■■■■■■ ] Device\u001b[00m\n"
          ]
        },
        {
          "output_type": "display_data",
          "data": {
            "text/html": [
              "<html>\n",
              "<head><meta charset=\"utf-8\" /></head>\n",
              "<body>\n",
              "    <div>            <script src=\"https://cdnjs.cloudflare.com/ajax/libs/mathjax/2.7.5/MathJax.js?config=TeX-AMS-MML_SVG\"></script><script type=\"text/javascript\">if (window.MathJax && window.MathJax.Hub && window.MathJax.Hub.Config) {window.MathJax.Hub.Config({SVG: {font: \"STIX-Web\"}});}</script>                <script type=\"text/javascript\">window.PlotlyConfig = {MathJaxConfig: 'local'};</script>\n",
              "        <script charset=\"utf-8\" src=\"https://cdn.plot.ly/plotly-2.35.2.min.js\"></script>                <div id=\"a73d2658-e6f3-425e-a219-7f2f72d70829\" class=\"plotly-graph-div\" style=\"height:525px; width:100%;\"></div>            <script type=\"text/javascript\">                                    window.PLOTLYENV=window.PLOTLYENV || {};                                    if (document.getElementById(\"a73d2658-e6f3-425e-a219-7f2f72d70829\")) {                    Plotly.newPlot(                        \"a73d2658-e6f3-425e-a219-7f2f72d70829\",                        [{\"line\":{\"dash\":\"solid\",\"color\":\"indianred\"},\"mode\":\"lines+markers\",\"name\":\"Host\",\"x\":[512,1024,2048,4096,8192,16384,32768,65536,131072,262144,524288,1048576,2097152,4194304,8388608,16777216,33554432,67108864,134217728],\"y\":[8.16e-07,1.42133e-06,2.685e-06,5.506e-06,1.05433e-05,2.0601e-05,4.1082e-05,8.9435e-05,0.000164311,0.000350212,0.000671871,0.00136749,0.00276612,0.00579797,0.0131949,0.0224121,0.0453347,0.0900081,0.180432],\"type\":\"scatter\",\"showlegend\":true},{\"line\":{\"dash\":\"solid\",\"color\":\"limegreen\"},\"mode\":\"lines+markers\",\"name\":\"Device\",\"x\":[512,1024,2048,4096,8192,16384,32768,65536,131072,262144,524288,1048576,2097152,4194304,8388608,16777216,33554432,67108864,134217728],\"y\":[1.79627e-05,1.6448e-05,1.86027e-05,2.3424e-05,3.1456e-05,4.90347e-05,8.31147e-05,0.000151467,0.000289184,0.000562251,0.0011115,0.00221548,0.00439568,0.00876713,0.0175284,0.033302,0.0665251,0.133716,0.265882],\"type\":\"scatter\",\"showlegend\":true}],                        {\"hovermode\":\"closest\",\"template\":{\"data\":{\"barpolar\":[{\"marker\":{\"line\":{\"color\":\"rgb(17,17,17)\",\"width\":0.5},\"pattern\":{\"fillmode\":\"overlay\",\"size\":10,\"solidity\":0.2}},\"type\":\"barpolar\"}],\"bar\":[{\"error_x\":{\"color\":\"#f2f5fa\"},\"error_y\":{\"color\":\"#f2f5fa\"},\"marker\":{\"line\":{\"color\":\"rgb(17,17,17)\",\"width\":0.5},\"pattern\":{\"fillmode\":\"overlay\",\"size\":10,\"solidity\":0.2}},\"type\":\"bar\"}],\"carpet\":[{\"aaxis\":{\"endlinecolor\":\"#A2B1C6\",\"gridcolor\":\"#506784\",\"linecolor\":\"#506784\",\"minorgridcolor\":\"#506784\",\"startlinecolor\":\"#A2B1C6\"},\"baxis\":{\"endlinecolor\":\"#A2B1C6\",\"gridcolor\":\"#506784\",\"linecolor\":\"#506784\",\"minorgridcolor\":\"#506784\",\"startlinecolor\":\"#A2B1C6\"},\"type\":\"carpet\"}],\"choropleth\":[{\"colorbar\":{\"outlinewidth\":0,\"ticks\":\"\"},\"type\":\"choropleth\"}],\"contourcarpet\":[{\"colorbar\":{\"outlinewidth\":0,\"ticks\":\"\"},\"type\":\"contourcarpet\"}],\"contour\":[{\"colorbar\":{\"outlinewidth\":0,\"ticks\":\"\"},\"colorscale\":[[0.0,\"#0d0887\"],[0.1111111111111111,\"#46039f\"],[0.2222222222222222,\"#7201a8\"],[0.3333333333333333,\"#9c179e\"],[0.4444444444444444,\"#bd3786\"],[0.5555555555555556,\"#d8576b\"],[0.6666666666666666,\"#ed7953\"],[0.7777777777777778,\"#fb9f3a\"],[0.8888888888888888,\"#fdca26\"],[1.0,\"#f0f921\"]],\"type\":\"contour\"}],\"heatmapgl\":[{\"colorbar\":{\"outlinewidth\":0,\"ticks\":\"\"},\"colorscale\":[[0.0,\"#0d0887\"],[0.1111111111111111,\"#46039f\"],[0.2222222222222222,\"#7201a8\"],[0.3333333333333333,\"#9c179e\"],[0.4444444444444444,\"#bd3786\"],[0.5555555555555556,\"#d8576b\"],[0.6666666666666666,\"#ed7953\"],[0.7777777777777778,\"#fb9f3a\"],[0.8888888888888888,\"#fdca26\"],[1.0,\"#f0f921\"]],\"type\":\"heatmapgl\"}],\"heatmap\":[{\"colorbar\":{\"outlinewidth\":0,\"ticks\":\"\"},\"colorscale\":[[0.0,\"#0d0887\"],[0.1111111111111111,\"#46039f\"],[0.2222222222222222,\"#7201a8\"],[0.3333333333333333,\"#9c179e\"],[0.4444444444444444,\"#bd3786\"],[0.5555555555555556,\"#d8576b\"],[0.6666666666666666,\"#ed7953\"],[0.7777777777777778,\"#fb9f3a\"],[0.8888888888888888,\"#fdca26\"],[1.0,\"#f0f921\"]],\"type\":\"heatmap\"}],\"histogram2dcontour\":[{\"colorbar\":{\"outlinewidth\":0,\"ticks\":\"\"},\"colorscale\":[[0.0,\"#0d0887\"],[0.1111111111111111,\"#46039f\"],[0.2222222222222222,\"#7201a8\"],[0.3333333333333333,\"#9c179e\"],[0.4444444444444444,\"#bd3786\"],[0.5555555555555556,\"#d8576b\"],[0.6666666666666666,\"#ed7953\"],[0.7777777777777778,\"#fb9f3a\"],[0.8888888888888888,\"#fdca26\"],[1.0,\"#f0f921\"]],\"type\":\"histogram2dcontour\"}],\"histogram2d\":[{\"colorbar\":{\"outlinewidth\":0,\"ticks\":\"\"},\"colorscale\":[[0.0,\"#0d0887\"],[0.1111111111111111,\"#46039f\"],[0.2222222222222222,\"#7201a8\"],[0.3333333333333333,\"#9c179e\"],[0.4444444444444444,\"#bd3786\"],[0.5555555555555556,\"#d8576b\"],[0.6666666666666666,\"#ed7953\"],[0.7777777777777778,\"#fb9f3a\"],[0.8888888888888888,\"#fdca26\"],[1.0,\"#f0f921\"]],\"type\":\"histogram2d\"}],\"histogram\":[{\"marker\":{\"pattern\":{\"fillmode\":\"overlay\",\"size\":10,\"solidity\":0.2}},\"type\":\"histogram\"}],\"mesh3d\":[{\"colorbar\":{\"outlinewidth\":0,\"ticks\":\"\"},\"type\":\"mesh3d\"}],\"parcoords\":[{\"line\":{\"colorbar\":{\"outlinewidth\":0,\"ticks\":\"\"}},\"type\":\"parcoords\"}],\"pie\":[{\"automargin\":true,\"type\":\"pie\"}],\"scatter3d\":[{\"line\":{\"colorbar\":{\"outlinewidth\":0,\"ticks\":\"\"}},\"marker\":{\"colorbar\":{\"outlinewidth\":0,\"ticks\":\"\"}},\"type\":\"scatter3d\"}],\"scattercarpet\":[{\"marker\":{\"colorbar\":{\"outlinewidth\":0,\"ticks\":\"\"}},\"type\":\"scattercarpet\"}],\"scattergeo\":[{\"marker\":{\"colorbar\":{\"outlinewidth\":0,\"ticks\":\"\"}},\"type\":\"scattergeo\"}],\"scattergl\":[{\"marker\":{\"line\":{\"color\":\"#283442\"}},\"type\":\"scattergl\"}],\"scattermapbox\":[{\"marker\":{\"colorbar\":{\"outlinewidth\":0,\"ticks\":\"\"}},\"type\":\"scattermapbox\"}],\"scatterpolargl\":[{\"marker\":{\"colorbar\":{\"outlinewidth\":0,\"ticks\":\"\"}},\"type\":\"scatterpolargl\"}],\"scatterpolar\":[{\"marker\":{\"colorbar\":{\"outlinewidth\":0,\"ticks\":\"\"}},\"type\":\"scatterpolar\"}],\"scatter\":[{\"marker\":{\"line\":{\"color\":\"#283442\"}},\"type\":\"scatter\"}],\"scatterternary\":[{\"marker\":{\"colorbar\":{\"outlinewidth\":0,\"ticks\":\"\"}},\"type\":\"scatterternary\"}],\"surface\":[{\"colorbar\":{\"outlinewidth\":0,\"ticks\":\"\"},\"colorscale\":[[0.0,\"#0d0887\"],[0.1111111111111111,\"#46039f\"],[0.2222222222222222,\"#7201a8\"],[0.3333333333333333,\"#9c179e\"],[0.4444444444444444,\"#bd3786\"],[0.5555555555555556,\"#d8576b\"],[0.6666666666666666,\"#ed7953\"],[0.7777777777777778,\"#fb9f3a\"],[0.8888888888888888,\"#fdca26\"],[1.0,\"#f0f921\"]],\"type\":\"surface\"}],\"table\":[{\"cells\":{\"fill\":{\"color\":\"#506784\"},\"line\":{\"color\":\"rgb(17,17,17)\"}},\"header\":{\"fill\":{\"color\":\"#2a3f5f\"},\"line\":{\"color\":\"rgb(17,17,17)\"}},\"type\":\"table\"}]},\"layout\":{\"annotationdefaults\":{\"arrowcolor\":\"#f2f5fa\",\"arrowhead\":0,\"arrowwidth\":1},\"autotypenumbers\":\"strict\",\"coloraxis\":{\"colorbar\":{\"outlinewidth\":0,\"ticks\":\"\"}},\"colorscale\":{\"diverging\":[[0,\"#8e0152\"],[0.1,\"#c51b7d\"],[0.2,\"#de77ae\"],[0.3,\"#f1b6da\"],[0.4,\"#fde0ef\"],[0.5,\"#f7f7f7\"],[0.6,\"#e6f5d0\"],[0.7,\"#b8e186\"],[0.8,\"#7fbc41\"],[0.9,\"#4d9221\"],[1,\"#276419\"]],\"sequential\":[[0.0,\"#0d0887\"],[0.1111111111111111,\"#46039f\"],[0.2222222222222222,\"#7201a8\"],[0.3333333333333333,\"#9c179e\"],[0.4444444444444444,\"#bd3786\"],[0.5555555555555556,\"#d8576b\"],[0.6666666666666666,\"#ed7953\"],[0.7777777777777778,\"#fb9f3a\"],[0.8888888888888888,\"#fdca26\"],[1.0,\"#f0f921\"]],\"sequentialminus\":[[0.0,\"#0d0887\"],[0.1111111111111111,\"#46039f\"],[0.2222222222222222,\"#7201a8\"],[0.3333333333333333,\"#9c179e\"],[0.4444444444444444,\"#bd3786\"],[0.5555555555555556,\"#d8576b\"],[0.6666666666666666,\"#ed7953\"],[0.7777777777777778,\"#fb9f3a\"],[0.8888888888888888,\"#fdca26\"],[1.0,\"#f0f921\"]]},\"colorway\":[\"#636efa\",\"#EF553B\",\"#00cc96\",\"#ab63fa\",\"#FFA15A\",\"#19d3f3\",\"#FF6692\",\"#B6E880\",\"#FF97FF\",\"#FECB52\"],\"font\":{\"color\":\"#f2f5fa\"},\"geo\":{\"bgcolor\":\"rgb(17,17,17)\",\"lakecolor\":\"rgb(17,17,17)\",\"landcolor\":\"rgb(17,17,17)\",\"showlakes\":true,\"showland\":true,\"subunitcolor\":\"#506784\"},\"hoverlabel\":{\"align\":\"left\"},\"hovermode\":\"closest\",\"mapbox\":{\"style\":\"dark\"},\"paper_bgcolor\":\"rgb(17,17,17)\",\"plot_bgcolor\":\"rgb(17,17,17)\",\"polar\":{\"angularaxis\":{\"gridcolor\":\"#506784\",\"linecolor\":\"#506784\",\"ticks\":\"\"},\"bgcolor\":\"rgb(17,17,17)\",\"radialaxis\":{\"gridcolor\":\"#506784\",\"linecolor\":\"#506784\",\"ticks\":\"\"}},\"scene\":{\"xaxis\":{\"backgroundcolor\":\"rgb(17,17,17)\",\"gridcolor\":\"#506784\",\"gridwidth\":2,\"linecolor\":\"#506784\",\"showbackground\":true,\"ticks\":\"\",\"zerolinecolor\":\"#C8D4E3\"},\"yaxis\":{\"backgroundcolor\":\"rgb(17,17,17)\",\"gridcolor\":\"#506784\",\"gridwidth\":2,\"linecolor\":\"#506784\",\"showbackground\":true,\"ticks\":\"\",\"zerolinecolor\":\"#C8D4E3\"},\"zaxis\":{\"backgroundcolor\":\"rgb(17,17,17)\",\"gridcolor\":\"#506784\",\"gridwidth\":2,\"linecolor\":\"#506784\",\"showbackground\":true,\"ticks\":\"\",\"zerolinecolor\":\"#C8D4E3\"}},\"shapedefaults\":{\"line\":{\"color\":\"#f2f5fa\"}},\"sliderdefaults\":{\"bgcolor\":\"#C8D4E3\",\"bordercolor\":\"rgb(17,17,17)\",\"borderwidth\":1,\"tickwidth\":0},\"ternary\":{\"aaxis\":{\"gridcolor\":\"#506784\",\"linecolor\":\"#506784\",\"ticks\":\"\"},\"baxis\":{\"gridcolor\":\"#506784\",\"linecolor\":\"#506784\",\"ticks\":\"\"},\"bgcolor\":\"rgb(17,17,17)\",\"caxis\":{\"gridcolor\":\"#506784\",\"linecolor\":\"#506784\",\"ticks\":\"\"}},\"title\":{\"x\":0.05},\"updatemenudefaults\":{\"bgcolor\":\"#506784\",\"borderwidth\":0},\"xaxis\":{\"automargin\":true,\"gridcolor\":\"#283442\",\"linecolor\":\"#506784\",\"ticks\":\"\",\"title\":{\"standoff\":15},\"zerolinecolor\":\"#283442\",\"zerolinewidth\":2},\"yaxis\":{\"automargin\":true,\"gridcolor\":\"#283442\",\"linecolor\":\"#506784\",\"ticks\":\"\",\"title\":{\"standoff\":15},\"zerolinecolor\":\"#283442\",\"zerolinewidth\":2}}},\"title\":{\"text\":\"Real Complexity of Dot Product (exponential job)\",\"x\":0.5},\"xaxis\":{\"autorange\":true,\"title\":{\"text\":\"Length\"}},\"yaxis\":{\"autorange\":true,\"title\":{\"text\":\"Time\"}}},                        {\"responsive\": true}                    ).then(function(){\n",
              "                            \n",
              "var gd = document.getElementById('a73d2658-e6f3-425e-a219-7f2f72d70829');\n",
              "var x = new MutationObserver(function (mutations, observer) {{\n",
              "        var display = window.getComputedStyle(gd).display;\n",
              "        if (!display || display === 'none') {{\n",
              "            console.log([gd, 'removed!']);\n",
              "            Plotly.purge(gd);\n",
              "            observer.disconnect();\n",
              "        }}\n",
              "}});\n",
              "\n",
              "// Listen for the removal of the full notebook cells\n",
              "var notebookContainer = gd.closest('#notebook-container');\n",
              "if (notebookContainer) {{\n",
              "    x.observe(notebookContainer, {childList: true});\n",
              "}}\n",
              "\n",
              "// Listen for the clearing of the current output cell\n",
              "var outputEl = gd.closest('.output');\n",
              "if (outputEl) {{\n",
              "    x.observe(outputEl, {childList: true});\n",
              "}}\n",
              "\n",
              "                        })                };                            </script>        </div>\n",
              "</body>\n",
              "</html>"
            ]
          },
          "metadata": {}
        }
      ]
    },
    {
      "cell_type": "code",
      "source": [],
      "metadata": {
        "id": "5dVSbwKDZX6z"
      },
      "execution_count": 56,
      "outputs": []
    }
  ]
}